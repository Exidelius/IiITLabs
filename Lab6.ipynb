{
 "cells": [
  {
   "cell_type": "markdown",
   "metadata": {
    "id": "0z3KlfKDn4_K"
   },
   "source": [
    "# Лабораторная работа 6. \n",
    "# Сетевые алгоритмы. Динамические алгоритмы поиска путей.\n"
   ]
  },
  {
   "cell_type": "markdown",
   "metadata": {
    "id": "96Gi_LEvmSVH"
   },
   "source": [
    "## Выполнил студент группы ФИО ГРУППА\n",
    "***"
   ]
  },
  {
   "cell_type": "markdown",
   "metadata": {
    "id": "GjdIp8aToKIe"
   },
   "source": [
    "### Задание\n",
    "\n",
    "1.  Реализовать алгоритм поиска кратчайшего расстояния между двумя вершинами ориентированного взвешенного графа в соответствии с вариантом. \n",
    "\n",
    "2.  Предусмотреть задание графа в виде матрицы смежности/инцидентности, читаемой из файла, либо графически с помощью пользовательского интерфейса. \n",
    "\n",
    "3.  Разработать графический интерфейс пользователя с визуализацией графа и отображением кратчайшего расстояния между задаваемыми пользователем вершинами.\n",
    "\n",
    "4. По результатам работы проанализировать временную сложность работы заданного алгоритма в зависимости от числа узлов и ребер графа.\n",
    "Данные представить в виде таблицы.\n",
    "\n"
   ]
  },
  {
   "cell_type": "markdown",
   "metadata": {
    "id": "LhhUXrAmotIA"
   },
   "source": [
    "### Алгоритмы:\n",
    "\n",
    "Алгоритм Флойда-Уоршелла| Алгоритм Дейкстры | Алгоритм Беллмана-Форда | Алгоритм Джонсона| Алгоритм Левита | Алгоритм Йена\n",
    "\n"
   ]
  },
  {
   "cell_type": "markdown",
   "metadata": {
    "id": "Wggfn8l7nG72"
   },
   "source": [
    "### Выполнение:"
   ]
  },
  {
   "cell_type": "code",
   "execution_count": 36,
   "metadata": {
    "id": "681a95mZnOSa"
   },
   "outputs": [],
   "source": [
    "from collections import defaultdict\n",
    "from queue import PriorityQueue"
   ]
  },
  {
   "cell_type": "code",
   "execution_count": 37,
   "metadata": {},
   "outputs": [],
   "source": [
    "class Graph:\n",
    "\n",
    "    def __init__(self, graph_dict = dict()) -> None:\n",
    "        self._graph_dict = graph_dict\n",
    "\n",
    "    def add_vertex(self, vertex):\n",
    "        if vertex not in self._graph_dict:\n",
    "            self._graph_dict[vertex] = set()\n",
    "\n",
    "    def remove_vertex(self, vertex):\n",
    "        self._graph_dict.pop(vertex, None)\n",
    "\n",
    "        for key, val in self._graph_dict.items():\n",
    "            for connection in val:\n",
    "                _vertex, _weight = connection\n",
    "            \n",
    "                if vertex == _vertex:\n",
    "                    self._graph_dict[key].remove(connection)\n",
    "                    break\n",
    "            break\n",
    "\n",
    "    def add_edge(self, edge: tuple()):\n",
    "        vertex1, vertex2, weight = tuple(edge)\n",
    "        for x, y in [(vertex1, vertex2), (vertex2, vertex1)]:\n",
    "            if x in self._graph_dict:\n",
    "                self._graph_dict[x].add((y, weight))\n",
    "            else:\n",
    "                self._graph_dict[x] = {(y, weight)}\n",
    "\n",
    "    def remove_edge(self, edge: tuple()):\n",
    "        edge = set(edge)\n",
    "        vertex1, vertex2, weight = tuple(edge)\n",
    "        for x, y in [(vertex1, vertex2), (vertex2, vertex1)]:\n",
    "            if x in self._graph_dict:\n",
    "                for connection in self._graph_dict[x]:\n",
    "                    _vertex, _weight = connection\n",
    "                    if _vertex == y:\n",
    "                        self._graph_dict[x].remove(connection)\n",
    "                        break\n",
    "\n",
    "    def neighbors(self, vertex):\n",
    "        return self._graph_dict[vertex]\n",
    "\n"
   ]
  },
  {
   "cell_type": "code",
   "execution_count": 39,
   "metadata": {},
   "outputs": [],
   "source": [
    "def dijkstra(current_graph: Graph, start_position: str, final_position: str):\n",
    "    variants = PriorityQueue()\n",
    "    variants.put(start_position, 0)\n",
    "    came_from = {}\n",
    "    current_cost = {}\n",
    "    came_from[start_position] = None\n",
    "    current_cost[start_position] = 0\n",
    "\n",
    "    while not variants.empty():\n",
    "        current = variants.get()\n",
    "\n",
    "        if current[0] == final_position:\n",
    "            return get_final_path(came_from, start_position, final_position)\n",
    "        \n",
    "        for next in current_graph.neighbors(current[0]):\n",
    "            new_cost = current_cost[current[0]] + next[1]\n",
    "            if next[0] not in current_cost or new_cost < current_cost[next[0]]:\n",
    "                current_cost[next[0]] = new_cost\n",
    "                priority = new_cost\n",
    "                variants.put(next[0], priority)\n",
    "                came_from[next[0]] = current[0]\n",
    "\n",
    "    return None"
   ]
  },
  {
   "cell_type": "code",
   "execution_count": 40,
   "metadata": {},
   "outputs": [],
   "source": [
    "def get_final_path(paths: list(), start, final):\n",
    "    current = final\n",
    "    result = list()\n",
    "    while True:\n",
    "        result.append(current)\n",
    "\n",
    "        if current == start:\n",
    "            return result[::-1]\n",
    "\n",
    "        current = paths[current]"
   ]
  },
  {
   "cell_type": "code",
   "execution_count": 44,
   "metadata": {},
   "outputs": [
    {
     "name": "stdout",
     "output_type": "stream",
     "text": [
      "{('c', 4), ('b', 6), ('d', 5)}\n"
     ]
    }
   ],
   "source": [
    "g = {\n",
    "    \"a\": {(\"b\", 6)},\n",
    "    \"b\": {(\"a\", 6)}\n",
    "    #\"c\": {(\"a\", 6)},\n",
    "    #\"a\": {(\"c\", 6)}\n",
    "}\n",
    "\n",
    "graph = Graph(g)\n",
    "\n",
    "graph.add_vertex(\"c\")\n",
    "graph.add_vertex(\"d\")\n",
    "graph.add_vertex(\"e\")\n",
    "graph.add_vertex(\"d\")\n",
    "graph.add_edge((\"a\", \"c\", 4))\n",
    "graph.add_edge((\"a\", \"d\", 5))\n",
    "graph.add_edge((\"c\", \"d\", 1))\n",
    "graph.add_edge((\"d\", \"e\", 3))\n",
    "print(graph.neighbors(\"a\"))\n",
    "#graph.remove_edge((\"c\", \"a\", 6))\n",
    "#graph.remove_vertex(\"c\")\n",
    "#print(graph.neighbors(\"a\"))"
   ]
  },
  {
   "cell_type": "code",
   "execution_count": 45,
   "metadata": {},
   "outputs": [
    {
     "name": "stdout",
     "output_type": "stream",
     "text": [
      "['a', 'd', 'e']\n"
     ]
    }
   ],
   "source": [
    "print(dijkstra(graph, \"a\", \"e\"))"
   ]
  },
  {
   "cell_type": "markdown",
   "metadata": {
    "id": "diOb-K7LnO5a"
   },
   "source": [
    "### Вывод"
   ]
  }
 ],
 "metadata": {
  "colab": {
   "name": "Lab6.ipynb",
   "provenance": []
  },
  "kernelspec": {
   "display_name": "Python 3 (ipykernel)",
   "language": "python",
   "name": "python3"
  },
  "language_info": {
   "codemirror_mode": {
    "name": "ipython",
    "version": 3
   },
   "file_extension": ".py",
   "mimetype": "text/x-python",
   "name": "python",
   "nbconvert_exporter": "python",
   "pygments_lexer": "ipython3",
   "version": "3.10.4"
  }
 },
 "nbformat": 4,
 "nbformat_minor": 1
}
