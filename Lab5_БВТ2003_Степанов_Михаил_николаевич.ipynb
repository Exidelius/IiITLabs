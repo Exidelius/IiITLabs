{
 "cells": [
  {
   "cell_type": "markdown",
   "metadata": {
    "id": "WPvB9TcMmKA6"
   },
   "source": [
    "# Лабораторная работа №5\n",
    "# Рекурсия. Фракталы."
   ]
  },
  {
   "cell_type": "markdown",
   "metadata": {
    "id": "96Gi_LEvmSVH"
   },
   "source": [
    "## Выполнил студент группы БВТ2003 Степанов Михаил Николаевич\n",
    "***"
   ]
  },
  {
   "cell_type": "markdown",
   "metadata": {
    "id": "4clYOyb0mbEv"
   },
   "source": [
    "### Задание:\n",
    "Реализовать генерацию заданного типа фрактала с применением рекурсивных функций.\n",
    "\n",
    "\n",
    "Добавить возможность задания глубины фрактала. \n",
    "\n",
    "\n",
    "Оценить глубину рекурсии. \n",
    "\n",
    "\n",
    "Построить таблицу зависимости времени построения от глубины фрактала."
   ]
  },
  {
   "cell_type": "markdown",
   "metadata": {
    "id": "wDXHbUmMmhRL"
   },
   "source": [
    "### Список фракталов:\n",
    "\n",
    "Кривая Коха\n",
    "| Кривая Гильберта\n",
    "| Кривая Серпинского\n",
    "| Салфетка Серпинского\n",
    "| Ковер Серпинского\n",
    "| Дерево Пифагора "
   ]
  },
  {
   "cell_type": "markdown",
   "metadata": {
    "id": "Wggfn8l7nG72"
   },
   "source": [
    "### Выполнение:"
   ]
  },
  {
   "cell_type": "code",
   "execution_count": 7,
   "metadata": {},
   "outputs": [],
   "source": [
    "import turtle\n",
    "tree_states = list()\n",
    "\n",
    "def create_l_system(iters, axiom, rules):\n",
    "    for _ in range(iters):\n",
    "        temp = \"\"\n",
    "        for i in range(len(axiom)):\n",
    "            temp += rules.get(axiom[i])\n",
    "        axiom = temp\n",
    "    return axiom\n",
    "\n",
    "def draw_l_system(instructions, angle, distance):\n",
    "    turtle.setheading(90)\n",
    "    for i in range(len(instructions)):\n",
    "        if instructions[i] == 'F':\n",
    "            turtle.forward(distance)\n",
    "        elif instructions[i] == '+':\n",
    "            turtle.right(angle)\n",
    "        elif instructions[i] == '-':\n",
    "            turtle.left(angle)\n",
    "        elif instructions[i] == 'S':\n",
    "            turtle.forward(distance)\n",
    "        elif instructions[i] == 'O':\n",
    "            turtle.forward(distance)\n",
    "        elif instructions[i] == '[':\n",
    "            tree_states.append((turtle.heading(), (turtle.xcor(), turtle.ycor())))\n",
    "            turtle.left(angle)\n",
    "        elif instructions[i] == ']':\n",
    "            current_state = tree_states.pop()\n",
    "            turtle.penup()\n",
    "            turtle.goto((current_state[1][0], current_state[1][1]))\n",
    "            turtle.pendown()\n",
    "            turtle.setheading(current_state[0])\n",
    "            turtle.right(angle)\n",
    "        turtle.update()\n",
    "\n",
    "def main(iterations, axiom, rules, angle, length=8):\n",
    "    turtle.speed('fastest')\n",
    "    turtle.tracer(False)\n",
    "    \n",
    "    inst = create_l_system(iterations, axiom, rules)\n",
    "\n",
    "    draw_l_system(inst, angle, length)\n",
    "\n",
    "    turtle.done()"
   ]
  },
  {
   "cell_type": "code",
   "execution_count": 3,
   "metadata": {},
   "outputs": [],
   "source": [
    "def koch_curve(length, iterations):\n",
    "    axiom = \"F\"\n",
    "    rules = {\"F\":\"F-F++F-F\", \"+\":\"+\", \"-\":\"-\"}\n",
    "    angle = 60\n",
    "    main(iterations, axiom, rules, angle, length)"
   ]
  },
  {
   "cell_type": "code",
   "execution_count": 4,
   "metadata": {},
   "outputs": [],
   "source": [
    "def hilber_curve(length, iterations):\n",
    "    axiom = \"L\"\n",
    "    rules = {\"L\":\"+RF-LFL-FR+\", \"R\":\"-LF+RFR+FL-\", \"+\":\"+\", \"-\":\"-\", \"F\":\"F\"}\n",
    "    angle = 90\n",
    "    main(iterations, axiom, rules, angle, length)"
   ]
  },
  {
   "cell_type": "code",
   "execution_count": 5,
   "metadata": {},
   "outputs": [],
   "source": [
    "def serpinsky_curve(length, iterations):\n",
    "    axiom = \"F--XF--F--XF\"\n",
    "    rules = {\"X\":\"XF+FF+XF--F--XF+FF+X\",\"+\":\"+\", \"-\":\"-\", \"F\":\"F\"}\n",
    "    angle = 45\n",
    "    main(iterations, axiom, rules, angle, length)  "
   ]
  },
  {
   "cell_type": "code",
   "execution_count": 6,
   "metadata": {},
   "outputs": [],
   "source": [
    "def serpinsky_triangle(length, iterations):\n",
    "    axiom = \"FXF--FF--FF\"\n",
    "    rules = {\"F\":\"FF\",\"X\":\"--FXF++FXF++FXF--\",\"+\":\"+\", \"-\":\"-\"}\n",
    "    angle = 60\n",
    "    main(iterations, axiom, rules, angle, length)"
   ]
  },
  {
   "cell_type": "code",
   "execution_count": 2,
   "metadata": {},
   "outputs": [],
   "source": [
    "def serpinsky_carpet(length, iterations):\n",
    "    axiom = \"F+F+F+F\"\n",
    "    #rules = {\"F\":\"F+F+F+F+FF+F+F+F+FF+F+F+F+F\", \"+\":\"+\", \"-\":\"-\"}\n",
    "    rules = {\"F\":\"F+F+F+F+SF+F+F+F+SF+S+S+S+S\", \"+\":\"+\", \"-\":\"-\", \"S\":\"SSS\"}\n",
    "    angle = 90\n",
    "    main(iterations, axiom, rules, angle, length)"
   ]
  },
  {
   "cell_type": "code",
   "execution_count": 2,
   "metadata": {},
   "outputs": [],
   "source": [
    "def pythagoras_tree(length, iterations):\n",
    "    axiom = \"O\"\n",
    "    rules = {\"F\":\"FF\", \"O\":\"F[O]O\", \"[\":\"[\", \"]\":\"]\"}\n",
    "    angle = 45\n",
    "    main(iterations, axiom, rules, angle, length)"
   ]
  },
  {
   "cell_type": "markdown",
   "metadata": {
    "id": "diOb-K7LnO5a"
   },
   "source": [
    "### Вывод"
   ]
  },
  {
   "cell_type": "markdown",
   "metadata": {},
   "source": [
    "##### При данной интерпретации и использованных минимальных значениях количества итераций лучшую скорость выдаёт кривая Коха, но при увеличении количества итераций наибольшую скорость имеет дерево Пифагора"
   ]
  },
  {
   "cell_type": "markdown",
   "metadata": {},
   "source": []
  }
 ],
 "metadata": {
  "colab": {
   "collapsed_sections": [],
   "name": "Lab5.ipynb",
   "provenance": []
  },
  "kernelspec": {
   "display_name": "Python 3 (ipykernel)",
   "language": "python",
   "name": "python3"
  },
  "language_info": {
   "codemirror_mode": {
    "name": "ipython",
    "version": 3
   },
   "file_extension": ".py",
   "mimetype": "text/x-python",
   "name": "python",
   "nbconvert_exporter": "python",
   "pygments_lexer": "ipython3",
   "version": "3.10.4"
  }
 },
 "nbformat": 4,
 "nbformat_minor": 1
}
