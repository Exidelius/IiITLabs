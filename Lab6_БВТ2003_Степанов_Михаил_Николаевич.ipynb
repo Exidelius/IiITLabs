{
 "cells": [
  {
   "cell_type": "markdown",
   "metadata": {
    "id": "0z3KlfKDn4_K"
   },
   "source": [
    "# Лабораторная работа 6. \n",
    "# Сетевые алгоритмы. Динамические алгоритмы поиска путей.\n"
   ]
  },
  {
   "cell_type": "markdown",
   "metadata": {
    "id": "96Gi_LEvmSVH"
   },
   "source": [
    "## Выполнил студент группы Степанов Михаил Николаевич БВТ2003\n",
    "***"
   ]
  },
  {
   "cell_type": "markdown",
   "metadata": {
    "id": "GjdIp8aToKIe"
   },
   "source": [
    "### Задание\n",
    "\n",
    "1.  Реализовать алгоритм поиска кратчайшего расстояния между двумя вершинами ориентированного взвешенного графа в соответствии с вариантом. \n",
    "\n",
    "2.  Предусмотреть задание графа в виде матрицы смежности/инцидентности, читаемой из файла, либо графически с помощью пользовательского интерфейса. \n",
    "\n",
    "3.  Разработать графический интерфейс пользователя с визуализацией графа и отображением кратчайшего расстояния между задаваемыми пользователем вершинами.\n",
    "\n",
    "4. По результатам работы проанализировать временную сложность работы заданного алгоритма в зависимости от числа узлов и ребер графа.\n",
    "Данные представить в виде таблицы.\n",
    "\n"
   ]
  },
  {
   "cell_type": "markdown",
   "metadata": {
    "id": "LhhUXrAmotIA"
   },
   "source": [
    "### Алгоритмы:\n",
    "\n",
    "Алгоритм Флойда-Уоршелла | Алгоритм Дейкстры | Алгоритм Беллмана-Форда | Алгоритм Джонсона| Алгоритм Левита | Алгоритм Йена\n",
    "\n"
   ]
  },
  {
   "cell_type": "markdown",
   "metadata": {
    "id": "Wggfn8l7nG72"
   },
   "source": [
    "### Выполнение:"
   ]
  },
  {
   "cell_type": "markdown",
   "metadata": {},
   "source": [
    "Создание графа"
   ]
  },
  {
   "cell_type": "code",
   "execution_count": 247,
   "metadata": {
    "id": "681a95mZnOSa"
   },
   "outputs": [],
   "source": [
    "from queue import PriorityQueue\n",
    "import networkx as nx\n",
    "from timeit import default_timer as timer\n",
    "import math"
   ]
  },
  {
   "cell_type": "code",
   "execution_count": 219,
   "metadata": {},
   "outputs": [],
   "source": [
    "class Graph:\n",
    "    def __init__(self, matrix):\n",
    "        self.matrix = matrix\n",
    "        self.graph = [set() for _ in range(len(matrix))]\n",
    "        self.visual = nx.Graph()\n",
    "        for i in range(len(matrix)):\n",
    "            self.visual.add_node(i)\n",
    "            for j in range(len(matrix[i])):\n",
    "                if matrix[i][j] != math.inf:\n",
    "                    self.__set_edge((i,j,matrix[i][j]))\n",
    "\n",
    "\n",
    "    def __set_edge(self, edge):\n",
    "        self.graph[edge[0]].add((edge[1], edge[2]))\n",
    "        self.visual.add_edge(edge[0], edge[1])\n",
    "    \n",
    "    def draw_path(self, path):\n",
    "        nx.draw_circular(\n",
    "            self.visual,\n",
    "            node_color='red',\n",
    "            node_size=1000,\n",
    "            with_labels=True,\n",
    "            edge_color='blue',\n",
    "            width = 3\n",
    "        )\n",
    "        for i in range(len(path)-1):\n",
    "            self.visual.remove_edge(i,i+1)\n",
    "            self.visual.add_edge(i, i+1, color = 'red', weight=100)\n",
    "\n",
    "    def get_graph(self):\n",
    "        return self.graph.copy()\n",
    "    \n",
    "    def get_matrix_without_edge(self, a, b):\n",
    "        matrix = self.get_matrix()\n",
    "        matrix[a][b] = math.inf\n",
    "        return matrix\n",
    "\n",
    "    def get_vertex_count(self):\n",
    "        return len(self.graph)\n",
    "\n",
    "    def get_neighbors(self, vertex):\n",
    "        neighbors = list()\n",
    "        if vertex < len(self.matrix):\n",
    "            neighbors = self.graph[vertex]\n",
    "        return neighbors\n",
    "\n",
    "    def get_distance(self, a,b):\n",
    "        if a in range(self.get_vertex_count()) and b in range(self.get_vertex_count()):\n",
    "            for neighbor in self.get_neighbors(a):\n",
    "                if neighbor[0] == b:\n",
    "                    return neighbor[1]\n",
    "        return None\n",
    "\n",
    "    def get_matrix(self):\n",
    "        return self.__copy_matrix()\n",
    "\n",
    "    def __copy_matrix(self):\n",
    "        result = list()\n",
    "        for row in self.matrix:\n",
    "            result.append(row.copy())\n",
    "        return result"
   ]
  },
  {
   "cell_type": "code",
   "execution_count": 246,
   "metadata": {},
   "outputs": [],
   "source": [
    "Q = math.inf\n",
    "\n",
    "nines_matrix = [ \n",
    "    [0, 2, 6, 8, Q, Q, 3, Q, Q],\n",
    "    [2, 0, 9, 3, Q, 4, 9, Q, Q],\n",
    "    [6, 9, 0, 7, Q, Q, Q, Q, Q],\n",
    "    [8, 3, 7, 0, 5, 5, Q, Q, Q],\n",
    "    [Q, Q, Q, 5, 0, Q, 8, 9, Q],\n",
    "    [Q, 4, Q, 5, Q, 0, Q, 6, 4],\n",
    "    [3, 9, Q, Q, 8, Q, 0, Q, Q],\n",
    "    [Q, Q, Q, Q, 9, 6, Q, 0, 1],\n",
    "    [Q, Q, Q, Q, Q, 4, Q, 1, 0]\n",
    "]\n",
    "\n",
    "sevens_matrix = [\n",
    "    [0, 4, Q, Q, Q, Q, 5],\n",
    "    [4, 0, 7, 1, Q, 2, Q],\n",
    "    [Q, 7, 0, Q, 3, 5, 1],\n",
    "    [Q, 1, Q, 0, Q, Q, 4],\n",
    "    [Q, Q, 3, Q, 0, Q, Q],\n",
    "    [Q, 2, 5, Q, Q, 0, 2],\n",
    "    [5, Q, 1, 4, Q, 2, 0]\n",
    "]\n",
    "\n",
    "fours_matrix = [\n",
    "    [0, 4, 5, Q],\n",
    "    [Q, 0, 2, 1],\n",
    "    [3, 1, 0, 2],\n",
    "    [8, Q, 7, 0]\n",
    "]\n",
    "\n",
    "test_matrixes = [fours_matrix, sevens_matrix, nines_matrix]\n",
    "\n",
    "johnson_mtx = [\n",
    "    [0, -2, 7, 5],\n",
    "    [Q,  0, 8, 6],\n",
    "    [Q, 3, 0, -4],\n",
    "    [-1, Q, Q, 0]\n",
    "]"
   ]
  },
  {
   "cell_type": "markdown",
   "metadata": {},
   "source": [
    "Алгоритм Флойда-Уоршелла"
   ]
  },
  {
   "cell_type": "code",
   "execution_count": 242,
   "metadata": {},
   "outputs": [],
   "source": [
    "class Floyd_Warshell:\n",
    "    def __init__(self, graph: Graph):\n",
    "        self.size = graph.get_vertex_count()\n",
    "        self.matrix = graph.get_matrix()\n",
    "        self.__get_distances()\n",
    "\n",
    "    def __get_distances(self):\n",
    "        for i in range(self.size):\n",
    "            for j in range(self.size):\n",
    "                if i == j:\n",
    "                    self.matrix[i][j]=0\n",
    "                    continue\n",
    "                self.matrix[i][j] = self.__min_distance(i,j,self.size-1)\n",
    "        \n",
    "    def __min_distance(self, a, b, k):\n",
    "        if k == -1:\n",
    "            return self.matrix[a][b]\n",
    "        else:\n",
    "            return min(self.__min_distance(a,b,k-1), self.__min_distance(a,k,k-1) + self.__min_distance(k,b,k-1))\n",
    "\n",
    "    def get_distance(self,start,final):\n",
    "        #print(self.matrix)\n",
    "        if start in range(self.size) and final in range(self.size):\n",
    "            return self.matrix[start][final]\n",
    "        return None"
   ]
  },
  {
   "cell_type": "code",
   "execution_count": 248,
   "metadata": {},
   "outputs": [
    {
     "name": "stdout",
     "output_type": "stream",
     "text": [
      "Флойд-Уоршел 4 за 0.0003412000005482696\n",
      "Флойд-Уоршел 7 за 0.022129699995275587\n",
      "Флойд-Уоршел 9 за 0.33036949999950593\n"
     ]
    }
   ],
   "source": [
    "for matrix in test_matrixes:\n",
    "    start = timer()\n",
    "    Floyd_Warshell(Graph(matrix)).get_distance(0,3)\n",
    "    end = timer()\n",
    "    print(f\"Флойд-Уоршел {len(matrix)} за {end-start}\")"
   ]
  },
  {
   "cell_type": "markdown",
   "metadata": {},
   "source": [
    "Дейкстра"
   ]
  },
  {
   "cell_type": "code",
   "execution_count": 244,
   "metadata": {},
   "outputs": [],
   "source": [
    "class Dijkstra:\n",
    "    def __init__ (self, graph : Graph, start = 0):\n",
    "        self.graph = graph\n",
    "        self.paths = self.get_paths(start)\n",
    "\n",
    "    def get_paths(self, start):\n",
    "        came_from = {}\n",
    "        current_cost = {}\n",
    "        variants = PriorityQueue()\n",
    "\n",
    "        variants.put((start, 0))        \n",
    "        came_from[start] = None\n",
    "        current_cost[start] = 0\n",
    "        \n",
    "        while not variants.empty():\n",
    "            current = variants.get()\n",
    "\n",
    "            for next_neighbor in self.graph.get_neighbors(current[0]):\n",
    "                new_cost = current_cost[current[0]] + next_neighbor[1]\n",
    "                if next_neighbor[0] not in current_cost or new_cost < current_cost[next_neighbor[0]]:\n",
    "                    current_cost[next_neighbor[0]] = new_cost\n",
    "                    priority = new_cost\n",
    "                    variants.put((next_neighbor[0], priority))\n",
    "                    came_from[next_neighbor[0]] = current[0]\n",
    "\n",
    "        return came_from\n",
    "\n",
    "    def get_path(self, start, final):\n",
    "        if start in range(self.graph.get_vertex_count()) and final in range(self.graph.get_vertex_count()):\n",
    "            current = final\n",
    "            result = list()\n",
    "            distance = 0\n",
    "\n",
    "            depth = len(self.paths)\n",
    "            while depth > 0:\n",
    "                depth-=1\n",
    "\n",
    "                result.append(current)\n",
    "\n",
    "                if current == start:\n",
    "                    return result[::-1], distance\n",
    "                \n",
    "                distance += self.graph.get_distance(self.paths[current], current)\n",
    "                current = self.paths[current]\n",
    "            \n",
    "        return None, None\n",
    "    \n",
    "    def get_paths_distances(self, start):\n",
    "        size = self.graph.get_vertex_count()\n",
    "        paths = list()\n",
    "        distances = list()\n",
    "        for final in range(size):\n",
    "            #if final != start:\n",
    "            path, distance = self.get_path(start, final)\n",
    "            paths.append(path.copy())\n",
    "            distances.append(distance)\n",
    "        return paths, distances\n"
   ]
  },
  {
   "cell_type": "code",
   "execution_count": 245,
   "metadata": {},
   "outputs": [
    {
     "name": "stdout",
     "output_type": "stream",
     "text": [
      "[0, 1, 3] 5\n"
     ]
    },
    {
     "data": {
      "image/png": "[encoded data removed]",
      "text/plain": [
       "<Figure size 432x288 with 1 Axes>"
      ]
     },
     "metadata": {},
     "output_type": "display_data"
    }
   ],
   "source": [
    "graph = Graph(sevens_matrix)\n",
    "\n",
    "path, distance = Dijkstra(graph).get_path(0,3)\n",
    "print(path, distance)\n",
    "\n",
    "graph.draw_path(path)"
   ]
  },
  {
   "cell_type": "markdown",
   "metadata": {},
   "source": [
    "Беллман-Форд"
   ]
  },
  {
   "cell_type": "code",
   "execution_count": 92,
   "metadata": {},
   "outputs": [],
   "source": [
    "def bellman_ford(matrix, start):\n",
    "    graph = Graph(matrix)\n",
    "    graph_edges = graph.get_graph()\n",
    "\n",
    "    dist = [math.inf] *graph.get_vertex_count()\n",
    "    dist[start] = 0\n",
    "\n",
    "    for i in range(graph.get_vertex_count()-1):\n",
    "        for j in range(graph.get_vertex_count()):\n",
    "            for edge in graph_edges[j]:\n",
    "                if dist[j] != math.inf and dist[j]+edge[1] < dist[edge[0]]:\n",
    "                    dist[edge[0]] = dist[j]+edge[1]\n",
    "    \n",
    "    for j in range(graph.get_vertex_count()):\n",
    "        for edge in graph_edges[j]:\n",
    "                if dist[j] != math.inf and dist[j]+edge[1] < dist[edge[0]]:\n",
    "                    print(\"Граф не может найти точную кратчайшую дистанцию\")\n",
    "                    return False\n",
    "    \n",
    "    return dist   "
   ]
  },
  {
   "cell_type": "code",
   "execution_count": 93,
   "metadata": {},
   "outputs": [],
   "source": [
    "def get_bellman_ford_distance(graph, start, finish):\n",
    "    return bellman_ford(graph.get_matrix(),start)[finish]"
   ]
  },
  {
   "cell_type": "code",
   "execution_count": 252,
   "metadata": {},
   "outputs": [
    {
     "name": "stdout",
     "output_type": "stream",
     "text": [
      "5\n"
     ]
    }
   ],
   "source": [
    "print(get_bellman_ford_distance(Graph(sevens_matrix),0,3))"
   ]
  },
  {
   "cell_type": "markdown",
   "metadata": {},
   "source": [
    "Джонсон"
   ]
  },
  {
   "cell_type": "code",
   "execution_count": 95,
   "metadata": {},
   "outputs": [],
   "source": [
    "class Johnson:\n",
    "    def __init__(self, graph: Graph):\n",
    "        self.graph = graph\n",
    "        self.size = graph.get_vertex_count()\n",
    "\n",
    "        self.paths = [[] for _ in range(self.size)]\n",
    "        self.distances = [[] for _ in range(self.size)]\n",
    "\n",
    "        self.paths, self.distances = self.get_paths(self.graph)\n",
    "    \n",
    "    def get_paths(self, graph: Graph):\n",
    "        extended_matrix = self.__create_extended_matrix(graph)\n",
    "        extended_size = len(extended_matrix)\n",
    "\n",
    "        paths = [[] for _ in range(self.size)]\n",
    "        distances = [[] for _ in range(self.size)]\n",
    "\n",
    "        h = bellman_ford(extended_matrix, 0)\n",
    "\n",
    "        if not h:\n",
    "            return None, None\n",
    "\n",
    "        for i in range(extended_size):\n",
    "            for j in range(extended_size):\n",
    "                extended_matrix[i][j]+=h[i]-h[j]\n",
    "        \n",
    "\n",
    "        dijkstra_graph = Graph(self.__cut_extended_matrix(extended_matrix))\n",
    "        for i in range(self.size):\n",
    "            paths[i], distances[i] = Dijkstra(dijkstra_graph,i).get_paths_distances(i)\n",
    "\n",
    "        for i in range(len(self.distances)):\n",
    "            for j in range(len(self.distances[i])):\n",
    "                distances[i][j]+=h[j]-h[i]\n",
    "\n",
    "        return paths, distances\n",
    "\n",
    "    def get_path(self, start, finish):\n",
    "        if start in range(self.size) and finish in range(self.size):\n",
    "            return self.paths[start][finish], self.distances[start][finish]\n",
    "        return None\n",
    "\n",
    "    def __create_extended_matrix(self, graph: Graph):\n",
    "        matrix = graph.get_matrix()\n",
    "        matrix = [[0 for i in range(len(matrix))],*matrix]\n",
    "\n",
    "        matrix[0].insert(0,0)\n",
    "        for i in range(1,len(matrix)):\n",
    "            matrix[i].insert(0,math.inf)\n",
    "\n",
    "        return matrix\n",
    "    \n",
    "\n",
    "    def __cut_extended_matrix(self, matrix):\n",
    "        result = list()\n",
    "\n",
    "        for i in range(1,len(matrix)):\n",
    "            result.append(matrix[i][1:len(matrix)].copy())\n",
    "\n",
    "        return result"
   ]
  },
  {
   "cell_type": "code",
   "execution_count": 266,
   "metadata": {},
   "outputs": [
    {
     "name": "stdout",
     "output_type": "stream",
     "text": [
      "([0, 1, 2, 3], 1)\n"
     ]
    }
   ],
   "source": [
    "print(Johnson(Graph(johnson_mtx)).get_path(0,3))"
   ]
  },
  {
   "cell_type": "markdown",
   "metadata": {},
   "source": [
    "Левит"
   ]
  },
  {
   "cell_type": "code",
   "execution_count": 98,
   "metadata": {},
   "outputs": [],
   "source": [
    "def levith(graph: Graph, start, finish):\n",
    "    size = graph.get_vertex_count()\n",
    "    \n",
    "    if start in range(size) and finish in range(size):\n",
    "        viewed = set()\n",
    "        waiting = set()\n",
    "        que_express = list()\n",
    "        que_normal = list()\n",
    "\n",
    "        came_from = {}\n",
    "        came_from[start] = None\n",
    "\n",
    "        shortest_distance = [math.inf] * size\n",
    "        shortest_distance[start] = 0\n",
    "\n",
    "        edges = graph.get_graph()\n",
    "\n",
    "        que_normal.append(start)\n",
    "        for i in range(size):\n",
    "            if i != start:\n",
    "                waiting.add(i)\n",
    "        \n",
    "        while len(que_express)>0 or len(que_normal)>0:\n",
    "            current = que_express.pop() if len(que_express)>0 else que_normal.pop()\n",
    "            for edge in edges[current]:\n",
    "                if edge[0] in waiting:\n",
    "                    que_normal.append(edge[0])\n",
    "                    waiting.remove(edge[0])\n",
    "                    if shortest_distance[edge[0]]>shortest_distance[current]+edge[1]:\n",
    "                        shortest_distance[edge[0]] = shortest_distance[current]+edge[1]\n",
    "                        came_from[edge[0]]=current\n",
    "                elif edge[0] in que_normal:\n",
    "                    if shortest_distance[edge[0]]>shortest_distance[current]+edge[1]:\n",
    "                       shortest_distance[edge[0]] = shortest_distance[current]+edge[1]\n",
    "                       came_from[edge[0]]=current\n",
    "                elif edge[0] in viewed and shortest_distance[edge[0]]>shortest_distance[current]+edge[1]:\n",
    "                    shortest_distance[edge[0]] = shortest_distance[current]+edge[1]\n",
    "                    came_from[edge[0]]=current\n",
    "            viewed.add(current)\n",
    "        \n",
    "        return get_path(came_from, start, finish), shortest_distance[finish]"
   ]
  },
  {
   "cell_type": "code",
   "execution_count": 99,
   "metadata": {},
   "outputs": [],
   "source": [
    "def get_path(came_from, start, final):\n",
    "        current = final\n",
    "        result = list()\n",
    "        depth = len(came_from)\n",
    "\n",
    "        while depth > 0:\n",
    "            depth-=1\n",
    "            result.append(current)\n",
    "\n",
    "            if current == start:\n",
    "                return result[::-1]\n",
    "\n",
    "            current = came_from[current]\n",
    "\n",
    "        return None"
   ]
  },
  {
   "cell_type": "code",
   "execution_count": 258,
   "metadata": {},
   "outputs": [
    {
     "name": "stdout",
     "output_type": "stream",
     "text": [
      "([0, 1, 3], 5)\n"
     ]
    }
   ],
   "source": [
    "print(levith(Graph(sevens_matrix),0,3))"
   ]
  },
  {
   "cell_type": "markdown",
   "metadata": {},
   "source": [
    "Йен"
   ]
  },
  {
   "cell_type": "code",
   "execution_count": 101,
   "metadata": {},
   "outputs": [],
   "source": [
    "def yen(graph: Graph, start, finish):\n",
    "    size = graph.get_vertex_count()\n",
    "    distances = list()\n",
    "    paths = list()\n",
    "    if start in range(size) and finish in range(size):\n",
    "        path, distance = Dijkstra(graph).get_path(start, finish)\n",
    "        first_path = path.copy()\n",
    "\n",
    "        if path is not None:\n",
    "            paths.append(path)\n",
    "            distances.append(distance)\n",
    "\n",
    "            for i in range(len(first_path)-1):\n",
    "                path, distance = Dijkstra(Graph(graph.get_matrix_without_edge(first_path[i], first_path[i+1]))).get_path(start, finish)\n",
    "                if path is not None:\n",
    "                    paths.append(path)\n",
    "                    distances.append(distance)\n",
    "            \n",
    "            minimal = 0\n",
    "            for i in range(len(distances)):\n",
    "                if distances[i] < distances[minimal]:\n",
    "                    minimal = i\n",
    "\n",
    "            return paths[minimal], distances[minimal]\n",
    "\n",
    "\n",
    "    return None"
   ]
  },
  {
   "cell_type": "code",
   "execution_count": 257,
   "metadata": {},
   "outputs": [
    {
     "name": "stdout",
     "output_type": "stream",
     "text": [
      "([0, 1, 3], 5)\n"
     ]
    }
   ],
   "source": [
    "print(yen(Graph(sevens_matrix),0,3))"
   ]
  },
  {
   "cell_type": "markdown",
   "metadata": {
    "id": "diOb-K7LnO5a"
   },
   "source": [
    "### Вывод"
   ]
  },
  {
   "cell_type": "code",
   "execution_count": 249,
   "metadata": {},
   "outputs": [
    {
     "name": "stdout",
     "output_type": "stream",
     "text": [
      "Флойд-Уоршел 4 за 0.0002727999963099137\n",
      "Флойд-Уоршел 7 за 0.022584599995752797\n",
      "Флойд-Уоршел 9 за 0.3422599999976228\n"
     ]
    }
   ],
   "source": [
    "for matrix in test_matrixes:\n",
    "    start = timer()\n",
    "    Floyd_Warshell(Graph(matrix)).get_distance(0,3)\n",
    "    end = timer()\n",
    "    print(f\"Флойд-Уоршел {len(matrix)} за {end-start}\")"
   ]
  },
  {
   "cell_type": "code",
   "execution_count": 251,
   "metadata": {},
   "outputs": [
    {
     "name": "stdout",
     "output_type": "stream",
     "text": [
      "Дейкстра 4 за 0.00010170000314246863\n",
      "Дейкстра 7 за 0.0001097999993362464\n",
      "Дейкстра 9 за 0.000134599999000784\n"
     ]
    }
   ],
   "source": [
    "for matrix in test_matrixes:\n",
    "    start = timer()\n",
    "    Dijkstra(Graph(matrix)).get_path(0,3)\n",
    "    end = timer()\n",
    "    print(f\"Дейкстра {len(matrix)} за {end-start}\")"
   ]
  },
  {
   "cell_type": "code",
   "execution_count": 254,
   "metadata": {},
   "outputs": [
    {
     "name": "stdout",
     "output_type": "stream",
     "text": [
      "Беллман-Форд 4 за 0.00016029999824240804\n",
      "Беллман-Форд 7 за 0.00014059999375604093\n",
      "Беллман-Форд 9 за 0.00011180000001331791\n"
     ]
    }
   ],
   "source": [
    "for matrix in test_matrixes:\n",
    "    start = timer()\n",
    "    get_bellman_ford_distance(Graph(sevens_matrix),0,3)\n",
    "    end = timer()\n",
    "    print(f\"Беллман-Форд {len(matrix)} за {end-start}\")\n"
   ]
  },
  {
   "cell_type": "code",
   "execution_count": 256,
   "metadata": {},
   "outputs": [
    {
     "name": "stdout",
     "output_type": "stream",
     "text": [
      "Джонсон 4 за 0.0014482999977190048\n",
      "Джонсон 7 за 0.000847700001031626\n",
      "Джонсон 9 за 0.0007390000027953647\n"
     ]
    }
   ],
   "source": [
    "for matrix in test_matrixes:\n",
    "    start = timer()\n",
    "    Johnson(Graph(sevens_matrix)).get_path(0,6)\n",
    "    end = timer()\n",
    "    print(f\"Джонсон {len(matrix)} за {end-start}\")\n"
   ]
  },
  {
   "cell_type": "code",
   "execution_count": 259,
   "metadata": {},
   "outputs": [
    {
     "name": "stdout",
     "output_type": "stream",
     "text": [
      "Левит 4 за 7.609999738633633e-05\n",
      "Левит 7 за 5.860000237589702e-05\n",
      "Левит 9 за 5.5999997130129486e-05\n"
     ]
    }
   ],
   "source": [
    "for matrix in test_matrixes:\n",
    "    start = timer()\n",
    "    levith(Graph(sevens_matrix),0,3)\n",
    "    end = timer()\n",
    "    print(f\"Левит {len(matrix)} за {end-start}\")"
   ]
  },
  {
   "cell_type": "code",
   "execution_count": 260,
   "metadata": {},
   "outputs": [
    {
     "name": "stdout",
     "output_type": "stream",
     "text": [
      "Йен 4 за 0.0005124999952386133\n",
      "Йен 7 за 0.0003404000017326325\n",
      "Йен 9 за 0.00035900000511901453\n"
     ]
    }
   ],
   "source": [
    "for matrix in test_matrixes:\n",
    "    start = timer()\n",
    "    yen(Graph(sevens_matrix),0,3)\n",
    "    end = timer()\n",
    "    print(f\"Йен {len(matrix)} за {end-start}\")"
   ]
  },
  {
   "cell_type": "code",
   "execution_count": null,
   "metadata": {},
   "outputs": [],
   "source": []
  }
 ],
 "metadata": {
  "colab": {
   "name": "Lab6.ipynb",
   "provenance": []
  },
  "interpreter": {
   "hash": "c35e0206af65a68b2048b69e3538babe0838abe8f6aa6df788e605891a4d2635"
  },
  "kernelspec": {
   "display_name": "Python 3.10.4 64-bit",
   "language": "python",
   "name": "python3"
  },
  "language_info": {
   "codemirror_mode": {
    "name": "ipython",
    "version": 3
   },
   "file_extension": ".py",
   "mimetype": "text/x-python",
   "name": "python",
   "nbconvert_exporter": "python",
   "pygments_lexer": "ipython3",
   "version": "3.10.4"
  }
 },
 "nbformat": 4,
 "nbformat_minor": 1
}
