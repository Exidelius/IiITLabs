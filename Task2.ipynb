{
 "cells": [
  {
   "cell_type": "markdown",
   "id": "arctic-stocks",
   "metadata": {},
   "source": [
    "### Задание №1\n",
    "Массив A состоит из целых положительных чисел длин отрезков. Составьте из трех отрезков такой треугольник, чтобы его периметр был максимально возможным. Если невозможно составить треугольник с положительной площадью функция возвращает 0."
   ]
  },
  {
   "cell_type": "code",
   "execution_count": 1,
   "id": "caring-truck",
   "metadata": {
    "scrolled": false
   },
   "outputs": [],
   "source": [
    "def triangle_with_max_perimeter(ribs):\n",
    "    perimeter = 0\n",
    "\n",
    "    for i in range(0,len(ribs)):\n",
    "        for j in range(i+1,len(ribs)):\n",
    "            for k in range(j+1,len(ribs)):\n",
    "                if (ribs[i]+ribs[j]>ribs[k] and ribs[i]+ribs[k]>ribs[j] and ribs[k]+ribs[j]>ribs[i]):\n",
    "                    if (perimeter<ribs[i]+ribs[j]+ribs[k]):\n",
    "                        perimeter = ribs[i]+ribs[j]+ribs[k]\n",
    "    return perimeter"
   ]
  },
  {
   "cell_type": "code",
   "execution_count": 6,
   "id": "f9b7ede5",
   "metadata": {},
   "outputs": [
    {
     "name": "stdout",
     "output_type": "stream",
     "text": [
      "9\n"
     ]
    }
   ],
   "source": [
    "print(triangle_with_max_perimeter([2,2,3,4]))"
   ]
  },
  {
   "cell_type": "markdown",
   "id": "maritime-conversation",
   "metadata": {},
   "source": [
    "### Задание №2\n",
    "Дан массив неотрицательных целых чисел nums. Расположите их в таком порядке, чтобы вместе они образовали максимально возможное число. Замечание: Результат может быть очень большим числом, поэтому представьте его как string, а не integer."
   ]
  },
  {
   "cell_type": "code",
   "execution_count": 7,
   "id": "alert-charm",
   "metadata": {
    "scrolled": false
   },
   "outputs": [],
   "source": [
    "def compare_numbers(a, b):\n",
    "    first_number = str(a)\n",
    "    second_number = str(b)\n",
    "\n",
    "    minLength = len(first_number)\n",
    "    if len(second_number) < minLength: \n",
    "        minLength = len(second_number)\n",
    "\n",
    "    for digit_index in range(minLength):\n",
    "        if (int(first_number[digit_index]) < int(second_number[digit_index])):\n",
    "            return True\n",
    "        elif int(first_number[digit_index]) == int(second_number[digit_index]):\n",
    "            if digit_index == minLength-1:\n",
    "                if len(first_number) < len(second_number):\n",
    "                    return compare_numbers(int(first_number), int(second_number[minLength : len(second_number)]))\n",
    "                elif len(first_number) > len(second_number):\n",
    "                    return compare_numbers(int(first_number[minLength : len(first_number)]), int(second_number))\n",
    "        else:\n",
    "            return False"
   ]
  },
  {
   "cell_type": "code",
   "execution_count": 8,
   "id": "5ee7933a",
   "metadata": {},
   "outputs": [],
   "source": [
    "def insertion_sort(nums):\n",
    "        for i in range(1, len(nums)):\n",
    "            k = i-1\n",
    "            while k >= 0 and compare_numbers(nums[k], nums[k+1]):\n",
    "                nums[k], nums[k+1] = nums[k+1], nums[k]\n",
    "                k-=1"
   ]
  },
  {
   "cell_type": "code",
   "execution_count": 9,
   "id": "07755a84",
   "metadata": {},
   "outputs": [],
   "source": [
    "\n",
    "def trim_zeros(number):\n",
    "    for digit_index in range (len(number)):\n",
    "        if digit_index != len(number)-1:\n",
    "            if number[digit_index] != '0':\n",
    "                return number[digit_index:len(number)]\n",
    "        else:\n",
    "            return number[digit_index:len(number)]\n",
    "    return number"
   ]
  },
  {
   "cell_type": "code",
   "execution_count": 10,
   "id": "85b3aabc",
   "metadata": {},
   "outputs": [],
   "source": [
    "def biggest_number(nums):\n",
    "    result = \"\"\n",
    "    \n",
    "    insertion_sort(nums)\n",
    "\n",
    "    for i in range(len(nums)):\n",
    "        result += str(nums[i])\n",
    "\n",
    "    result = trim_zeros(result)\n",
    "\n",
    "    return result"
   ]
  },
  {
   "cell_type": "code",
   "execution_count": 11,
   "id": "9c949cff",
   "metadata": {},
   "outputs": [
    {
     "name": "stdout",
     "output_type": "stream",
     "text": [
      "95534330\n",
      "0\n",
      "343234323\n"
     ]
    }
   ],
   "source": [
    "print(biggest_number([5, 3, 30, 34, 5, 9]))\n",
    "print(biggest_number([0,0]))\n",
    "print(biggest_number([34323, 3432]))"
   ]
  },
  {
   "cell_type": "markdown",
   "id": "catholic-roots",
   "metadata": {},
   "source": [
    "### Задание №3\n",
    "Дана матрица mat размером m * n, значения целочисленные. Напишите функцию, сортирующую каждую диагональ матрицы по возрастанию и возвращающую получившуюся матрицу."
   ]
  },
  {
   "cell_type": "code",
   "execution_count": 173,
   "id": "e6d7c9b3",
   "metadata": {},
   "outputs": [],
   "source": [
    "def matrix_copy(current_matrix):\n",
    "    result = []\n",
    "    for element in current_matrix:\n",
    "        result.append(element.copy())\n",
    "    return result"
   ]
  },
  {
   "cell_type": "code",
   "execution_count": 174,
   "id": "b47e4ba6",
   "metadata": {},
   "outputs": [],
   "source": [
    "def matrix_diag_sort(matrix):\n",
    "    result = matrix_copy(matrix)\n",
    "    temp = list()\n",
    "    while True:\n",
    "        m=len(matrix)\n",
    "        n=len(matrix[0])\n",
    "\n",
    "        temp = diag_sort(result, m, n, 0, 0)\n",
    "        if m>n:\n",
    "            temp = diag_sort(temp, m, n, m-n, 0)\n",
    "        elif m<n:\n",
    "            temp = diag_sort(temp, m, n, 0, n-m)\n",
    "\n",
    "        if temp == result:\n",
    "            return result\n",
    "        else:\n",
    "            result = matrix_copy(temp)\n",
    "        \n",
    "    "
   ]
  },
  {
   "cell_type": "code",
   "execution_count": 175,
   "id": "f4005b82",
   "metadata": {},
   "outputs": [],
   "source": [
    "def diag_sort(matrix, m, n, skip_1, skip_2):\n",
    "    result = matrix_copy(matrix)\n",
    "\n",
    "    diag = list()\n",
    "    length = min(m,n)\n",
    "    for i in range(length):\n",
    "        diag.append(result[skip_1+i][skip_2+i])\n",
    "    diag = sorted(diag)\n",
    "    for i in range(length):\n",
    "        result[skip_1+i][skip_2+i] = diag[i]\n",
    "\n",
    "    diag = list()\n",
    "    for i in range(length):\n",
    "        diag.append(result[skip_1+length-1-i][skip_2+i])\n",
    "    diag = sorted(diag)\n",
    "    for i in range(length):\n",
    "        result[skip_1+length-1-i][skip_2+i] = diag[i]\n",
    "\n",
    "    return result\n",
    "\n",
    "\n",
    "    "
   ]
  },
  {
   "cell_type": "code",
   "execution_count": 176,
   "id": "76c53e2f",
   "metadata": {},
   "outputs": [],
   "source": [
    "def print_matrix(matrix):\n",
    "    for i in matrix:\n",
    "        print(i)"
   ]
  },
  {
   "cell_type": "code",
   "execution_count": 181,
   "id": "3acf2aef",
   "metadata": {},
   "outputs": [],
   "source": [
    "mat = [[1,2,4],[5,6,7],[10,0,0]]"
   ]
  },
  {
   "cell_type": "code",
   "execution_count": 182,
   "id": "ed15a9a0",
   "metadata": {},
   "outputs": [
    {
     "name": "stdout",
     "output_type": "stream",
     "text": [
      "[1, 2, 4]\n",
      "[5, 6, 7]\n",
      "[10, 0, 0]\n",
      "\n",
      "[0, 2, 10]\n",
      "[5, 4, 7]\n",
      "[1, 0, 6]\n"
     ]
    }
   ],
   "source": [
    "print_matrix(mat)\n",
    "print()\n",
    "print_matrix(matrix_diag_sort(mat))"
   ]
  }
 ],
 "metadata": {
  "kernelspec": {
   "display_name": "Python 3 (ipykernel)",
   "language": "python",
   "name": "python3"
  },
  "language_info": {
   "codemirror_mode": {
    "name": "ipython",
    "version": 3
   },
   "file_extension": ".py",
   "mimetype": "text/x-python",
   "name": "python",
   "nbconvert_exporter": "python",
   "pygments_lexer": "ipython3",
   "version": "3.10.4"
  }
 },
 "nbformat": 4,
 "nbformat_minor": 5
}
