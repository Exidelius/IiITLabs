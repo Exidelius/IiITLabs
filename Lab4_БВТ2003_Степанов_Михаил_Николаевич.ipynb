{
 "cells": [
  {
   "cell_type": "markdown",
   "id": "fifteen-sailing",
   "metadata": {},
   "source": [
    "# Лабораторная работа №4\n",
    "## Выполнил студент группы ФИО ГРУППА"
   ]
  },
  {
   "cell_type": "markdown",
   "id": "arctic-stocks",
   "metadata": {},
   "source": [
    "Реализовать следующие структуры данных:\n",
    "  \n",
    "● <b> Стек (stack): </b>  \n",
    "Операции для стека: \n",
    "<i> инициализация, проверка на пустоту, добавление нового элемента в начало, извлечение элемента из начала;  </i>  \n",
    "  \n",
    "● <b> Дек (двусторонняя очередь, deque):  </b>  \n",
    "Операции для дека: \n",
    "<i> инициализация, проверка на пустоту, добавление нового элемента в начало, добавление нового элемента в конец, извлечение элемента из начала, извлечение элемента из конца. </i>  \n",
    "  \n",
    "<i> Разработать программу обработки данных, содержащихся в заранее подготовленном txt-файле, в соответствии с заданиями, применив указанную в задании структуру данных. Результат работы программы вывести на экран и сохранить в отдельном txt-файле. </i>"
   ]
  },
  {
   "cell_type": "code",
   "execution_count": 1,
   "id": "9b597772",
   "metadata": {},
   "outputs": [],
   "source": [
    "import random"
   ]
  },
  {
   "cell_type": "code",
   "execution_count": 49,
   "id": "8a1c295b",
   "metadata": {},
   "outputs": [],
   "source": [
    "class Stack:\n",
    "    def __init__(self):\n",
    "        self.items = []\n",
    "\n",
    "    def is_empty(self):\n",
    "        return len(self.items) == 0\n",
    "    \n",
    "    def put(self, item):\n",
    "        self.items.append(item)\n",
    "\n",
    "    def pop(self):\n",
    "        if not self.is_empty():\n",
    "            return self.items.pop()\n",
    "        return None\n",
    "\n",
    "    def get(self):\n",
    "        if not self.is_empty():\n",
    "            return self.items[len(self.items)-1]\n",
    "        return None\n",
    "\n",
    "    def __str__(self):\n",
    "        return str(self.items)\n",
    "        \n",
    "    def __len__(self):\n",
    "        return len(self.items)"
   ]
  },
  {
   "cell_type": "code",
   "execution_count": 53,
   "id": "84fe0449",
   "metadata": {},
   "outputs": [],
   "source": [
    "class Deque:\n",
    "    def __init__(self):\n",
    "        self.items = []\n",
    "\n",
    "    def is_empty(self):\n",
    "        return len(self.items) == 0\n",
    "\n",
    "    def put_back(self, item):\n",
    "        self.items.append(item)\n",
    "\n",
    "    def put_front(self, item):\n",
    "        self.items.insert(0, item)\n",
    "\n",
    "    def pop_back(self):\n",
    "        return self.items.pop()\n",
    "\n",
    "    def pop_front(self):\n",
    "        return self.items.pop(0)\n",
    "\n",
    "    def get_back(self):\n",
    "            return self.items[-1]\n",
    "\n",
    "    def get_front(self):\n",
    "        return self.items[0]\n",
    "\n",
    "    def __str__(self):\n",
    "        return str(self.items)\n",
    "\n",
    "    def __len__(self):\n",
    "        return len(self.items)"
   ]
  },
  {
   "cell_type": "markdown",
   "id": "5d7edb08",
   "metadata": {
    "scrolled": true
   },
   "source": [
    "### Задание №1\n",
    "Отсортировать строки файла, содержащие названия книг, в алфавитном порядке с использованием двух деков."
   ]
  },
  {
   "cell_type": "code",
   "execution_count": 54,
   "id": "17702ade",
   "metadata": {},
   "outputs": [],
   "source": [
    "def sort_books(path):\n",
    "    with open(path, 'r', encoding='utf-8') as books:\n",
    "        d1 = Deque()\n",
    "        d2 = Deque()\n",
    "        for book in books:\n",
    "            d1.put_back(book)\n",
    "        while not d1.is_empty():\n",
    "            last = d1.pop_back()\n",
    "            while not d2.is_empty() and d2.get_back() > last:\n",
    "                d1.put_front(d2.pop_back())\n",
    "            d2.put_back(last)\n",
    "\n",
    "        print(d2)"
   ]
  },
  {
   "cell_type": "code",
   "execution_count": 55,
   "id": "e9f17411",
   "metadata": {},
   "outputs": [
    {
     "name": "stdout",
     "output_type": "stream",
     "text": [
      "[\"By the way You don't have the right, O You don't have the right\\n\", 'Dog!\\n', 'Elden Ring, O Elden Ring\\n', 'English text\\n', 'Idonno\\n', 'MIQUELLA IS MINE AND MINE ALONE', 'More text\\n', 'Something \\n', 'Try jumping\\n', 'Why english\\n', \"You don't have the right, O You don't have the right\\n\"]\n"
     ]
    }
   ],
   "source": [
    "sort_books('Lab4/Task1.txt')"
   ]
  },
  {
   "cell_type": "markdown",
   "id": "49fbd2a0",
   "metadata": {},
   "source": [
    "### Задание №2\n",
    "Дек содержит последовательность символов для шифровки сообщений. Дан текстовый файл, содержащий зашифрованное сообщение. Пользуясь деком, расшифровать текст. \n",
    "Известно, что при шифровке каждый символ сообщения заменялся следующим за ним в деке по часовой стрелке через один."
   ]
  },
  {
   "cell_type": "code",
   "execution_count": 56,
   "id": "81cab7a8",
   "metadata": {},
   "outputs": [
    {
     "name": "stdout",
     "output_type": "stream",
     "text": [
      "Ну, допустим, это какая-то строка. Очень похоже на строку. Вероятно, это утка. Возможно, собака.\n"
     ]
    }
   ],
   "source": [
    "path = 'Lab4/Task2.txt'\n",
    "text = 'Ну, допустим, это какая-то строка. Очень похоже на строку. Вероятно, это утка. Возможно, собака.'\n",
    "encode_letters = Deque()\n",
    "\n",
    "letters = list('ЙЦУКЕНГШЩЗХЪФЫВАПРОЛДЖЭЯЧСМИТЬБЮЁйцукенгшщзхъфывапролджэячсмитьбюё .,:()[]')\n",
    "random.shuffle(letters)\n",
    "letters = ''.join(letters)\n",
    "\n",
    "\n",
    "for letter in letters:\n",
    "    encode_letters.put_front(letter)\n",
    "\n",
    "def encoding(message, path):\n",
    "    with open(path, 'w', encoding='utf-8') as document:\n",
    "        result = ''\n",
    "        for letter in message:\n",
    "            is_changed = False\n",
    "            for _ in range(len(encode_letters)):\n",
    "                temp = encode_letters.pop_back()\n",
    "                if temp == letter:\n",
    "                    encode_letters.put_front(temp)\n",
    "                    temp = encode_letters.pop_back()\n",
    "                    encode_letters.put_front(temp)\n",
    "                    is_changed = True\n",
    "                    result+=temp\n",
    "                    break\n",
    "                encode_letters.put_front(temp)\n",
    "            if not is_changed:\n",
    "                result+=letter\n",
    "        document.write(result)\n",
    "\n",
    "def decoding(path):\n",
    "    with open(path, 'r', encoding='utf-8') as document:\n",
    "        message = document.read()\n",
    "        result = ''\n",
    "        for letter in message:\n",
    "            is_changed = False\n",
    "            for _ in range(len(encode_letters)):\n",
    "                temp = encode_letters.pop_front()\n",
    "                if temp == letter:\n",
    "                    encode_letters.put_back(temp)\n",
    "                    temp = encode_letters.pop_front()\n",
    "                    encode_letters.put_back(temp)\n",
    "                    result+=temp\n",
    "                    is_changed = True\n",
    "                    break\n",
    "                encode_letters.put_back(temp)\n",
    "            if not is_changed:\n",
    "                result+=letter\n",
    "        return result\n",
    "    return None\n",
    "\n",
    "encoding(text, path)\n",
    "print(decoding(path))\n",
    "        "
   ]
  },
  {
   "cell_type": "markdown",
   "id": "c0894f47",
   "metadata": {},
   "source": [
    "### Задание №3\n",
    "Даны три стержня и n дисков различного размера. Диски можно надевать на стержни, образуя из них башни. Перенести n дисков со стержня А на стержень С, сохранив их первоначальный порядок. При переносе дисков необходимо соблюдать следующие правила:\n",
    "- на каждом шаге со стержня на стержень переносить только один диск;\n",
    "- диск нельзя помещать на диск меньшего размера;\n",
    "- для промежуточного хранения можно использовать стержень В.\n",
    "Реализовать алгоритм, используя три стека вместо стержней А, В, С. Информация о дисках хранится в исходном файле."
   ]
  },
  {
   "cell_type": "code",
   "execution_count": 67,
   "id": "9e91a9d4",
   "metadata": {},
   "outputs": [
    {
     "name": "stdout",
     "output_type": "stream",
     "text": [
      "1\n",
      "2\n",
      "3\n",
      "4\n",
      "5\n",
      "6\n",
      "7\n",
      "8\n"
     ]
    }
   ],
   "source": [
    "path = 'Lab4/Task3.txt'\n",
    "\n",
    "def disks_solve(path):\n",
    "    with open(path, 'r', encoding='utf-8') as document:\n",
    "        A = Stack()\n",
    "        B = Stack()\n",
    "        C = Stack()\n",
    "\n",
    "        disks_count = int(document.read())\n",
    "        for i in range(disks_count, 0, -1):\n",
    "            A.put(i)\n",
    "            \n",
    "        if disks_count % 2 == 0:\n",
    "            while len(C) != disks_count:\n",
    "                switch(A, B)\n",
    "                switch(A, C)\n",
    "                switch(B, C)\n",
    "        else:\n",
    "            while len(C) != disks_count:\n",
    "                switch(A, C)\n",
    "                switch(A, B)\n",
    "                switch(B, C)\n",
    "        \n",
    "        for _ in range(disks_count):\n",
    "            print(C.pop())\n",
    "\n",
    "def switch(a: Stack, b: Stack):\n",
    "    if a.is_empty() and b.is_empty():\n",
    "        return\n",
    "    elif a.is_empty() and not b.is_empty():\n",
    "        a.put(b.pop())\n",
    "    elif not a.is_empty() and b.is_empty():\n",
    "        b.put(a.pop())\n",
    "    elif a.get() > b.get():\n",
    "        a.put(b.pop())\n",
    "    else:\n",
    "        b.put(a.pop())   \n",
    "\n",
    "disks_solve(path)    "
   ]
  },
  {
   "cell_type": "markdown",
   "id": "e5b0be17",
   "metadata": {},
   "source": [
    "### Задание №4\n",
    "Дан текстовый файл с программой на алгоритмическом языке. За один просмотр файла проверить баланс круглых скобок в тексте, используя стек."
   ]
  },
  {
   "cell_type": "code",
   "execution_count": 58,
   "id": "5b1df60a",
   "metadata": {},
   "outputs": [
    {
     "name": "stdout",
     "output_type": "stream",
     "text": [
      "Партия гордится тобой!\n",
      "Ужас! Ехать санаторий отдых уйнгур! Думать перед писать следующий раз!\n"
     ]
    }
   ],
   "source": [
    "path1 = 'Lab4/Task4.txt'\n",
    "path2 = 'Lab4/Task4_wrong.txt'\n",
    "\n",
    "def bracket_balance(path):\n",
    "    with open(path, 'r', encoding='utf-8') as document:\n",
    "        balance_stack = Stack()\n",
    "        text = document.read()\n",
    "        for ch in text:\n",
    "            if ch == '(':\n",
    "                balance_stack.put(ch)\n",
    "            elif ch == ')':\n",
    "                if len(balance_stack)>0:\n",
    "                    balance_stack.pop()\n",
    "                else:\n",
    "                    print(\"Вы очень долго работать на код и сильно устать\")\n",
    "                    return\n",
    "        if len(balance_stack) == 0:\n",
    "            print(\"Партия гордится тобой!\")\n",
    "        else:\n",
    "            print(\"Ужас! Ехать санаторий отдых уйнгур! Думать перед писать следующий раз!\")\n",
    "\n",
    "bracket_balance(path1)\n",
    "bracket_balance(path2)"
   ]
  },
  {
   "cell_type": "markdown",
   "id": "c44cdd6b",
   "metadata": {},
   "source": [
    "### Задание №5\n",
    "Дан текстовый файл с программой на алгоритмическом языке. За один просмотр файла проверить баланс квадратных скобок в тексте, используя дек."
   ]
  },
  {
   "cell_type": "code",
   "execution_count": 59,
   "id": "36b8f400",
   "metadata": {},
   "outputs": [
    {
     "name": "stdout",
     "output_type": "stream",
     "text": [
      "Партия гордость тебе!\n",
      "Умри грязь уйгур!\n"
     ]
    }
   ],
   "source": [
    "path1 = 'Lab4/Task5.txt'\n",
    "path2 = 'Lab4/Task5_wrong.txt'\n",
    "\n",
    "def bracket_balance(path):\n",
    "    with open(path, 'r', encoding='utf-8') as document:\n",
    "        balance_stack = Deque()\n",
    "        text = document.read()\n",
    "        for ch in text:\n",
    "            if ch == '[':\n",
    "                balance_stack.put_front(ch)\n",
    "            elif ch == ']':\n",
    "                if len(balance_stack)>0:\n",
    "                    balance_stack.pop_front()\n",
    "                else:\n",
    "                    print(\"Ну и ну! Вы разочаровали партию!\")\n",
    "                    return\n",
    "        if len(balance_stack) == 0:\n",
    "            print(\"Партия гордость тебе!\")\n",
    "        else:\n",
    "            print(\"Умри грязь уйгур!\")\n",
    "\n",
    "bracket_balance(path1)\n",
    "bracket_balance(path2)"
   ]
  },
  {
   "cell_type": "markdown",
   "id": "59d13dc7",
   "metadata": {},
   "source": [
    "### Задание №6\n",
    "Дан файл из символов. Используя стек, за один просмотр файла напечатать сначала все цифры, затем все буквы, и, наконец, все остальные символы, сохраняя исходный порядок в каждой группе символов."
   ]
  },
  {
   "cell_type": "code",
   "execution_count": 60,
   "id": "297e36c2",
   "metadata": {},
   "outputs": [
    {
     "name": "stdout",
     "output_type": "stream",
     "text": [
      "40300060606470Тутбудеточеньмноготекстасцифрмиптмумнbлыдвиьисмвb      , , }|{ |    |/|/\\|\n"
     ]
    }
   ],
   "source": [
    "path = 'Lab4/Task6.txt'\n",
    "\n",
    "def get_chars(path):\n",
    "    with open(path, 'r', encoding='utf-8') as document:\n",
    "        text = document.read()\n",
    "\n",
    "        letters = Stack()\n",
    "        digits = Stack()\n",
    "        others = Stack()\n",
    "\n",
    "        for ch in text:\n",
    "            if ch.isalpha(): letters.put(ch)\n",
    "            elif ch.isdigit(): digits.put(ch)\n",
    "            else: others.put(ch)\n",
    "\n",
    "        new_text = ''\n",
    "\n",
    "        while not others.is_empty():\n",
    "            new_text += others.pop()\n",
    "\n",
    "        while not letters.is_empty():\n",
    "            new_text += letters.pop()\n",
    "\n",
    "        while not digits.is_empty():\n",
    "            new_text += digits.pop()\n",
    "\n",
    "        \n",
    "        print(\"\".join(list(new_text)[::-1]))\n",
    "\n",
    "get_chars(path)"
   ]
  },
  {
   "cell_type": "markdown",
   "id": "973f68bd",
   "metadata": {},
   "source": [
    "### Задание №7\n",
    "Дан файл из целых чисел. Используя дек, за один просмотр файла напечатать сначала все отрицательные числа, затем все положительные числа, сохраняя исходный порядок в каждой группе."
   ]
  },
  {
   "cell_type": "code",
   "execution_count": 62,
   "id": "c56fad66",
   "metadata": {},
   "outputs": [
    {
     "name": "stdout",
     "output_type": "stream",
     "text": [
      "-20\n",
      "-1\n",
      "-5\n",
      "-7\n",
      "-91\n",
      "-42\n",
      "1\n",
      "2\n",
      "38\n",
      "87\n",
      "34\n",
      "4\n",
      "9\n",
      "7\n",
      "2\n"
     ]
    }
   ],
   "source": [
    "path = 'Lab4/Task7.txt'\n",
    "\n",
    "def get_chars(path):\n",
    "    with open(path, 'r', encoding='utf-8') as document:\n",
    "        input_numbers = document.read().split()\n",
    "        negative = Deque()\n",
    "        positive = Deque()\n",
    "\n",
    "        for number in input_numbers:\n",
    "            current_number = int(number)\n",
    "            if current_number > 0:\n",
    "                positive.put_front(current_number)\n",
    "            elif current_number < 0:\n",
    "                negative.put_front(current_number)\n",
    "\n",
    "\n",
    "\n",
    "        while not negative.is_empty():\n",
    "            print(negative.pop_back())\n",
    "        while not positive.is_empty():\n",
    "            print(positive.pop_back())\n",
    "\n",
    "\n",
    "get_chars(path)"
   ]
  },
  {
   "cell_type": "markdown",
   "id": "b9228191",
   "metadata": {},
   "source": [
    "### Задание №8\n",
    "Дан текстовый файл. Используя стек, сформировать новый текстовый файл, содержащий строки исходного файла, записанные в обратном порядке: первая строка становится последней, вторая – предпоследней и т.д."
   ]
  },
  {
   "cell_type": "code",
   "execution_count": 66,
   "id": "981fbdfe",
   "metadata": {},
   "outputs": [],
   "source": [
    "path1 = 'Lab4/Task8.txt'\n",
    "path2 = 'Lab4/Task8_result.txt'\n",
    "\n",
    "def inverse_strings(path1, path2):\n",
    "    strings_stack = Stack()\n",
    "    with open(path1, 'r', encoding='utf-8') as document:\n",
    "        for string in document:\n",
    "            strings_stack.put(string)\n",
    "    with open(path2, 'w', encoding='utf-8') as document:\n",
    "        while not strings_stack.is_empty():\n",
    "            document.writelines(strings_stack.pop())\n",
    "\n",
    "inverse_strings(path1, path2)"
   ]
  },
  {
   "cell_type": "markdown",
   "id": "rental-jerusalem",
   "metadata": {},
   "source": [
    "### Вывод\n"
   ]
  },
  {
   "cell_type": "markdown",
   "id": "0c2b8899",
   "metadata": {},
   "source": [
    "#### На практике были изучены способности и свойства Стэка и Дэка, а также работа с файлами с помощью внутренних средств языка"
   ]
  }
 ],
 "metadata": {
  "kernelspec": {
   "display_name": "Python 3 (ipykernel)",
   "language": "python",
   "name": "python3"
  },
  "language_info": {
   "codemirror_mode": {
    "name": "ipython",
    "version": 3
   },
   "file_extension": ".py",
   "mimetype": "text/x-python",
   "name": "python",
   "nbconvert_exporter": "python",
   "pygments_lexer": "ipython3",
   "version": "3.10.4"
  }
 },
 "nbformat": 4,
 "nbformat_minor": 5
}
