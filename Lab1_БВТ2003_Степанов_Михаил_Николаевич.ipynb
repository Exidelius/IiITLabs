{
 "cells": [
  {
   "cell_type": "markdown",
   "metadata": {},
   "source": [
    "# Лабораторная работа №1\n",
    "## Выполнил студент группы БВТ2003 Степанов Михаил Николаевич"
   ]
  },
  {
   "cell_type": "markdown",
   "metadata": {},
   "source": [
    "## Задание №1\n",
    "## Вывести \"Hello, World!\""
   ]
  },
  {
   "cell_type": "code",
   "execution_count": 1,
   "metadata": {},
   "outputs": [
    {
     "name": "stdout",
     "output_type": "stream",
     "text": [
      "Hello, World!\n"
     ]
    }
   ],
   "source": [
    "print(\"Hello, World!\")"
   ]
  },
  {
   "cell_type": "markdown",
   "metadata": {},
   "source": [
    "## Задание №2\n",
    "## Написать генератор случайных матриц(многомерных), который принимает опциональные параметры m, n, min_limit, max_limit, где m и n указывают размер матрицы, а min_lim и max_lim - минимальное и максимальное значение для генерируемого числа . По умолчанию при отсутствии параметров принимать следующие значения: m=50, n=50, min_limit=-250, max_limit=1000+(номер своего варианта)"
   ]
  },
  {
   "cell_type": "code",
   "execution_count": 1,
   "metadata": {},
   "outputs": [],
   "source": [
    "from random import randint\n",
    "\n",
    "def randomMatrixGenerate(m=50, n=50, min_limit=-250, max_limit=1000):\n",
    "    return [[randint(min_limit,max_limit) for i in range(m)] for i in range(n)]"
   ]
  },
  {
   "cell_type": "markdown",
   "metadata": {},
   "source": [
    "## Задание №3\n",
    "## Реализовать методы сортировки строк числовой матрицы в соответствии с заданием. Оценить время работы каждого алгоритма сортировки и сравнить его со временем стандартной функции сортировки. Испытания проводить на сгенерированных матрицах.\n",
    "## Методы: выбором, вставкой, обменом, Шелла, турнирная, быстрая сортировка, пирамидальная"
   ]
  },
  {
   "cell_type": "code",
   "execution_count": 3,
   "metadata": {},
   "outputs": [],
   "source": [
    "\n",
    "mtx = randomMatrixGenerate(4,3,0,10)"
   ]
  },
  {
   "cell_type": "code",
   "execution_count": 4,
   "metadata": {},
   "outputs": [],
   "source": [
    "# Сортировка выбором\n",
    "\n",
    "def selectionSort(matrix):\n",
    "    for i in range(len(matrix)):\n",
    "        for j in range(len(matrix[0])):\n",
    "            min_j = j\n",
    "            for k in range (j+1, len(matrix[0])):\n",
    "                if matrix[i][k]<matrix[i][min_j]:\n",
    "                    min_j=k\n",
    "            matrix[i][j], matrix[i][min_j] = matrix[i][min_j], matrix[i][j] \n",
    "\n"
   ]
  },
  {
   "cell_type": "code",
   "execution_count": 5,
   "metadata": {},
   "outputs": [],
   "source": [
    "# Сортировка вставкой\n",
    "\n",
    "def insertionSort(matrix):\n",
    "    for i in range(len(matrix)):\n",
    "        for j in range(1, len(matrix[0])):\n",
    "            k = j-1\n",
    "            while k >= 0 and matrix[i][k+1] < matrix[i][k]:\n",
    "                matrix[i][k+1], matrix[i][k] = matrix[i][k], matrix[i][k+1] \n",
    "                k-=1"
   ]
  },
  {
   "cell_type": "code",
   "execution_count": 6,
   "metadata": {},
   "outputs": [],
   "source": [
    "# Сортировка обменом\n",
    "\n",
    "def bubbleSort(matrix):\n",
    "    for i in range(len(matrix)):\n",
    "        for j in range(0, len(matrix[0])):\n",
    "            for k in range(0, len(matrix[0])-j-1):\n",
    "                if matrix[i][k+1] < matrix[i][k] :\n",
    "                    matrix[i][k+1], matrix[i][k] = matrix[i][k], matrix[i][k+1]"
   ]
  },
  {
   "cell_type": "code",
   "execution_count": 7,
   "metadata": {},
   "outputs": [],
   "source": [
    "# Сортировка Шелла\n",
    "\n",
    "def shellSort(matrix):\n",
    "    for i in range(len(matrix)):\n",
    "        gap = len(matrix[i])//2\n",
    "        while gap > 0:\n",
    "            for j in range(gap, len(matrix[i])):\n",
    "                temp = matrix[i][j]\n",
    "                k=j\n",
    "                while k >= gap and matrix[i][k-gap] > temp:\n",
    "                    matrix[i][k] = matrix[i][k-gap]\n",
    "                    k-=gap\n",
    "                matrix[i][k] = temp\n",
    "            gap //= 2"
   ]
  },
  {
   "cell_type": "code",
   "execution_count": 8,
   "metadata": {},
   "outputs": [],
   "source": [
    "# Турнирная сортировка\n",
    "\n",
    "import math\n",
    "\n",
    "def build(A, B, x, left, right):\n",
    "    if left == right:\n",
    "        B[x] = (A[left], x)\n",
    "    else:\n",
    "        middle = (left + right) // 2\n",
    "        build(A, B, 2 * x, left, middle)\n",
    "        build(A, B, (2 * x) + 1, middle + 1, right)\n",
    "        if B[(2 * x) + 1][0] < B[2 * x][0]:\n",
    "            B[x] = B[(2 * x) + 1]\n",
    "        else:\n",
    "            B[x] = B[2 * x]\n",
    "\n",
    "def pop(B):\n",
    "    result = B[1][0]\n",
    "    index = B[1][1]\n",
    "    B[index] = None\n",
    "    while index > 1:\n",
    "        index = index // 2\n",
    "        if B[index * 2] is None:\n",
    "            minimum = B[(index * 2) + 1]\n",
    "        elif B[(index * 2) + 1] is None:\n",
    "            minimum = B[index * 2]\n",
    "        else:\n",
    "            minimum = min(B[index * 2], B[(index * 2) + 1])\n",
    "        if minimum == B[index]:\n",
    "            break\n",
    "        B[index] = minimum\n",
    "    return result\n",
    "\n",
    "def tournamentSort(array):\n",
    "    temp = [None] * (2 ** (math.ceil(math.log2(len(array))) + 1))\n",
    "    build(array, temp, 1, 0, len(array) - 1)\n",
    "    sorted_array = [pop(temp) for i in range(len(array))]\n",
    "    return sorted_array\n",
    "\n",
    "def tournamentMatrixSort(matrix):\n",
    "    for i in range(len(matrix)):\n",
    "        matrix[i] = tournamentSort(matrix[i])"
   ]
  },
  {
   "cell_type": "code",
   "execution_count": 9,
   "metadata": {},
   "outputs": [],
   "source": [
    "# Быстрая сортировка\n",
    "\n",
    "def partition(array, start, end):\n",
    "    pivot = array[start]\n",
    "    low = start+1\n",
    "    high = end\n",
    "\n",
    "    while True:\n",
    "        while low <= high and array[high] >= pivot:\n",
    "            high-=1\n",
    "        while low <= high and array[low] <= pivot:\n",
    "            low+=1\n",
    "        if low <= high:\n",
    "            array[low], array[high] = array[high], array[low]\n",
    "        else:\n",
    "            break\n",
    "    \n",
    "    array[start], array[high] = array[high], array[start]\n",
    "    \n",
    "    return high\n",
    "\n",
    "def quickSort(array, start, end):\n",
    "    if (start < end):\n",
    "        p = partition(array, start, end)\n",
    "        quickSort(array, start, p-1)\n",
    "        quickSort(array, p+1, end)\n",
    "\n",
    "\n",
    "def quickMatrixSort(matrix):\n",
    "    for i in range(len(matrix)):\n",
    "        quickSort(matrix[i], 0, len(matrix[i])-1)"
   ]
  },
  {
   "cell_type": "code",
   "execution_count": 10,
   "metadata": {},
   "outputs": [],
   "source": [
    "# Пирамидальная сортировка\n",
    "\n",
    "def heapify(array, n, i):\n",
    "    winner = i\n",
    "    left = i*2+1\n",
    "    right = i*2+2\n",
    "\n",
    "    if left < n and array[i] < array[left]:\n",
    "        winner = left\n",
    "    \n",
    "    if right < n and array[winner] < array[right]:\n",
    "        winner = right\n",
    "    \n",
    "    if winner != i:\n",
    "        array[i], array[winner] = array[winner], array[i]\n",
    "        heapify(array, n, winner)\n",
    "\n",
    "\n",
    "def heapSort(array):\n",
    "    for i in range(len(array)//2, -1, -1):\n",
    "        heapify(array, len(array), i)\n",
    "\n",
    "    for i in range(len(array)-1, 0, -1):\n",
    "        array[i], array[0] = array[0], array[i]\n",
    "\n",
    "        heapify(array,i,0)\n",
    "\n",
    "def heapMatrixSort(matrix):\n",
    "    for i in range(len(matrix)):\n",
    "        heapSort(matrix[i])"
   ]
  },
  {
   "cell_type": "code",
   "execution_count": 11,
   "metadata": {},
   "outputs": [],
   "source": [
    "def standardSort(matrix):\n",
    "    for i in range(len(matrix)):\n",
    "        matrix[i] = sorted(matrix[i])"
   ]
  },
  {
   "cell_type": "code",
   "execution_count": 12,
   "metadata": {},
   "outputs": [],
   "source": [
    "# Замеряем время, требующееся на сортировку\n",
    "\n",
    "from timeit import default_timer as timer"
   ]
  },
  {
   "cell_type": "code",
   "execution_count": 13,
   "metadata": {},
   "outputs": [],
   "source": [
    "sorts = dict(\n",
    "    selectionSort = selectionSort,\n",
    "    insertionSort = insertionSort,\n",
    "    bubbleSort = bubbleSort,\n",
    "    shellSort = shellSort,\n",
    "    tournamentSort = tournamentMatrixSort,\n",
    "    quickSort = quickMatrixSort,\n",
    "    heapSort = heapMatrixSort,\n",
    "    standardSort = standardSort\n",
    ")"
   ]
  },
  {
   "cell_type": "code",
   "execution_count": 14,
   "metadata": {},
   "outputs": [
    {
     "name": "stdout",
     "output_type": "stream",
     "text": [
      "selectionSort: 1.6400001186411828e-05\n",
      "insertionSort: 2.0299998141126707e-05\n",
      "bubbleSort: 1.679999695625156e-05\n",
      "shellSort: 1.089999932446517e-05\n",
      "tournamentSort: 6.370000119204633e-05\n",
      "quickSort: 4.0499999158782884e-05\n",
      "heapSort: 4.439999975147657e-05\n",
      "standardSort: 8.300001354655251e-06\n"
     ]
    }
   ],
   "source": [
    "# Сортировки\n",
    "\n",
    "for name, callable in sorts.items():\n",
    "    a = mtx.copy()\n",
    "    start = timer()\n",
    "    callable(a)\n",
    "    end = timer()\n",
    "    print(f\"{name}: {end-start}\")"
   ]
  },
  {
   "cell_type": "markdown",
   "metadata": {},
   "source": [
    "По результатам стандартная"
   ]
  },
  {
   "cell_type": "markdown",
   "metadata": {},
   "source": [
    "## Задание №4\n",
    "## Создать публичный репозиторий на github, и запушить выполненное задание в .ipynb формате.\n"
   ]
  },
  {
   "cell_type": "markdown",
   "metadata": {},
   "source": [
    "## https://github.com/Exidelius/IiITLabs.git"
   ]
  }
 ],
 "metadata": {
  "interpreter": {
   "hash": "d2e3a79096eb3dad17f830b58ed8fe2ee365aadc67a37a6426743fe0c94bb988"
  },
  "kernelspec": {
   "display_name": "Python 3.10.2 64-bit",
   "language": "python",
   "name": "python3"
  },
  "language_info": {
   "codemirror_mode": {
    "name": "ipython",
    "version": 3
   },
   "file_extension": ".py",
   "mimetype": "text/x-python",
   "name": "python",
   "nbconvert_exporter": "python",
   "pygments_lexer": "ipython3",
   "version": "3.10.2"
  },
  "orig_nbformat": 4
 },
 "nbformat": 4,
 "nbformat_minor": 2
}
