{
 "cells": [
  {
   "cell_type": "code",
   "execution_count": 1,
   "metadata": {},
   "outputs": [],
   "source": [
    "# Лабораторная работа №1\n",
    "# Выполнил студент группы БВТ2003 Степанов Михаил Николаевич"
   ]
  },
  {
   "cell_type": "code",
   "execution_count": 4,
   "metadata": {},
   "outputs": [
    {
     "name": "stdout",
     "output_type": "stream",
     "text": [
      "Hello, World!\n"
     ]
    }
   ],
   "source": [
    "# Задание №1\n",
    "# Вывести \"Hello, World!\"\n",
    "\n",
    "print(\"Hello, World!\")"
   ]
  },
  {
   "cell_type": "code",
   "execution_count": 56,
   "metadata": {},
   "outputs": [],
   "source": [
    "# Задание 2\n",
    "# Написать генератор случайных матриц(многомерных), который принимает опциональные параметры m, n, min_limit, max_limit, где m и n указывают размер матрицы, а min_lim и max_lim - минимальное и максимальное значение для генерируемого числа . По умолчанию при отсутствии параметров принимать следующие значения: m=50, n=50, min_limit=-250, max_limit=1000+(номер своего варианта)\n",
    "\n",
    "from random import randint\n",
    "\n",
    "def randomMatrixGenerate(m=50, n=50, min_limit=-250, max_limit=1000):\n",
    "    return [[randint(min_limit,max_limit) for i in range(m)] for i in range(n)]"
   ]
  },
  {
   "cell_type": "code",
   "execution_count": 51,
   "metadata": {},
   "outputs": [],
   "source": [
    "# Задание 3\n",
    "# Реализовать методы сортировки строк числовой матрицы в соответствии с заданием. Оценить время работы каждого алгоритма сортировки и сравнить его со временем стандартной функции сортировки. Испытания проводить на сгенерированных матрицах.\n",
    "# Методы: выбором, вставкой, обменом, Шелла, турнирная, быстрая сортировка, пирамидальная\n",
    "\n",
    "a=randomMatrixGenerate(4,3,0,10)"
   ]
  },
  {
   "cell_type": "code",
   "execution_count": 35,
   "metadata": {},
   "outputs": [],
   "source": [
    "# Сортировка выбором\n",
    "\n",
    "def selectionSort(mat):\n",
    "    for i in range(len(mat)):\n",
    "        for j in range(len(mat[0])):\n",
    "            min_j = j\n",
    "            for k in range (j+1, len(mat[0])):\n",
    "                if mat[i][k]<mat[i][min_j]:\n",
    "                    min_j=k\n",
    "            mat[i][j], mat[i][min_j] = mat[i][min_j], mat[i][j] \n"
   ]
  },
  {
   "cell_type": "code",
   "execution_count": 33,
   "metadata": {},
   "outputs": [],
   "source": [
    "# Сортировка вставкой\n",
    "\n",
    "def insertionSort(mat):\n",
    "    for i in range(len(mat)):\n",
    "        for j in range(1, len(mat[0])):\n",
    "            k = j-1\n",
    "            while k >= 0 and mat[i][k+1] < mat[i][k]:\n",
    "                mat[i][k+1], mat[i][k] = mat[i][k], mat[i][k+1] \n",
    "                k-=1"
   ]
  },
  {
   "cell_type": "code",
   "execution_count": 34,
   "metadata": {},
   "outputs": [],
   "source": [
    "# Сортировка обменом\n",
    "\n",
    "def bubbleSort(mat):\n",
    "    for i in range(len(mat)):\n",
    "        for j in range(0, len(mat[0])):\n",
    "            for k in range(0, len(mat[0])-j-1):\n",
    "                if mat[i][k+1] < mat[i][k] :\n",
    "                    mat[i][k+1], mat[i][k] = mat[i][k], mat[i][k+1]"
   ]
  },
  {
   "cell_type": "code",
   "execution_count": 31,
   "metadata": {},
   "outputs": [],
   "source": [
    "# Сортировка Шелла\n",
    "\n",
    "def shellSort(mat):\n",
    "    for i in range(len(mat)):\n",
    "        gap = len(mat[i])//2\n",
    "        while gap > 0:\n",
    "            for j in range(gap, len(mat[i])):\n",
    "                temp = mat[i][j]\n",
    "                k=j\n",
    "                while k >= gap and mat[i][k-gap] > temp:\n",
    "                    mat[i][k] = mat[i][k-gap]\n",
    "                    k-=gap\n",
    "                mat[i][k] = temp\n",
    "            gap //= 2"
   ]
  },
  {
   "cell_type": "code",
   "execution_count": 55,
   "metadata": {},
   "outputs": [
    {
     "name": "stdout",
     "output_type": "stream",
     "text": [
      "[0, 0, 0, 0]\n"
     ]
    }
   ],
   "source": [
    "# Турнирная сортировка\n",
    "# TODO ЗАБИТЬ НА ЭТОТ УЖАС\n",
    "    "
   ]
  },
  {
   "cell_type": "code",
   "execution_count": 57,
   "metadata": {},
   "outputs": [],
   "source": [
    "# Быстрая сортировка\n",
    "\n",
    "def partition(arr, start, end):\n",
    "    pivot = arr[start]\n",
    "    low = start+1\n",
    "    high = end\n",
    "\n",
    "    while True:\n",
    "        while low <= high and arr[high] >= pivot:\n",
    "            high-=1\n",
    "        while low <= high and arr[low] <= pivot:\n",
    "            low+=1\n",
    "        if low <= high:\n",
    "            arr[low], arr[high] = arr[high], arr[low]\n",
    "        else:\n",
    "            break\n",
    "    \n",
    "    arr[start], arr[high] = arr[high], arr[start]\n",
    "    \n",
    "    return high\n",
    "\n",
    "def quickSort(arr, start, end):\n",
    "    if (start < end):\n",
    "        p = partition(arr, start, end)\n",
    "        quickSort(arr, start, p-1)\n",
    "        quickSort(arr, p+1, end)\n",
    "\n",
    "\n",
    "def quickMatrixSort(mat):\n",
    "    for i in range(len(mat)):\n",
    "        quickSort(mat[i], 0, len(mat[i])-1)"
   ]
  },
  {
   "cell_type": "code",
   "execution_count": 54,
   "metadata": {},
   "outputs": [],
   "source": [
    "# Пирамидальная сортировка\n",
    "\n",
    "def heapify(arr, n, i):\n",
    "    winner = i\n",
    "    left = i*2+1\n",
    "    right = i*2+2\n",
    "\n",
    "    if left < n and arr[i] < arr[left]:\n",
    "        winner = left\n",
    "    \n",
    "    if right < n and arr[winner] < arr[right]:\n",
    "        winner = right\n",
    "    \n",
    "    if winner != i:\n",
    "        arr[i], arr[winner] = arr[winner], arr[i]\n",
    "        heapify(arr, n, winner)\n",
    "\n",
    "\n",
    "def heapSort(arr):\n",
    "    for i in range(len(arr)//2, -1, -1):\n",
    "        heapify(arr, len(arr), i)\n",
    "\n",
    "    for i in range(len(arr)-1, 0, -1):\n",
    "        arr[i], arr[0] = arr[0], arr[i]\n",
    "\n",
    "        heapify(arr,i,0)\n",
    "\n",
    "def heapMatrixSort(mat):\n",
    "    for i in range(len(mat)):\n",
    "        heapSort(mat[i])"
   ]
  }
 ],
 "metadata": {
  "interpreter": {
   "hash": "d2e3a79096eb3dad17f830b58ed8fe2ee365aadc67a37a6426743fe0c94bb988"
  },
  "kernelspec": {
   "display_name": "Python 3.10.2 64-bit",
   "language": "python",
   "name": "python3"
  },
  "language_info": {
   "codemirror_mode": {
    "name": "ipython",
    "version": 3
   },
   "file_extension": ".py",
   "mimetype": "text/x-python",
   "name": "python",
   "nbconvert_exporter": "python",
   "pygments_lexer": "ipython3",
   "version": "3.10.2"
  },
  "orig_nbformat": 4
 },
 "nbformat": 4,
 "nbformat_minor": 2
}
