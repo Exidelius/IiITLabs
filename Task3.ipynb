{
 "cells": [
  {
   "cell_type": "markdown",
   "id": "fifteen-sailing",
   "metadata": {},
   "source": [
    "# Набор заданий №3\n",
    "\n",
    "### Задание 1\n",
    "В Тридевятом Царстве уже много лет как установилась конституционная монархия. В парламент Тридевятого царства входят 26 партий, обозначаемых строчными буквами английского алфавита от «a» до «z». Заседание парламента в соответствии с регламентом проходит по следующей схеме:\n",
    "- В начале заседания никаких законопроектов на повестке дня не стоит.\n",
    "- Любая партия (в том числе и та, которая внесла текущий законопроект) в любой момент времени может внести на обсуждение новый законопроект.\n",
    "- При вносе партией нового законопроекта обсуждение предыдущего приостанавливается и начинается обсуждение нового. После того, как парламентарии голосуют за новый законопроект, обсуждение законопроекта, прерванного им, продолжается.\n",
    "- Дискуссия по любому законопроекту обязана завершиться голосованием по этому законопроекту.\n",
    "- В конце заседания не должно остаться внесённых законопроектов, дискуссия по которым не завершена.\n",
    "\n",
    "Вам дана запись о событиях на сессии парламента. Каждое событие является либо внесением нового законопроекта, либо голосованием за какой-то законопроект, причём в обоих случаях известен номер партии, этот законопроект предложившей. События даны в том порядке, в котором они происходили. Проверьте, может ли данная запись о событиях соответствовать какому-либо заседанию, удовлетворяющему порядку проведения, описанному выше.\n",
    "#### Ввод\n",
    "Первая строка входных данных содержит одно целое число *K* – количество строк в записи сессии (1 ≤ *K* ≤ 1000). Каждая строка соответствует одному из двух событий:\n",
    "\n",
    "- Add *x* – партия x внесла на голосование законопроект.\n",
    "- Vote *x* – прошло голосование за документ, внесённый партией *x*.\n",
    "\n",
    "Здесь *x* – строчная буква английского алфавита от «a» до «z», задающая партию.\n",
    "#### Вывод\n",
    "Выведите «Yes», если существует корректный порядок проведения заседания, который мог привести к такой записи, и «No», если ни при каком корректном порядке проведения заседания данная запись появиться не могла."
   ]
  },
  {
   "cell_type": "code",
   "execution_count": 47,
   "id": "concerned-lewis",
   "metadata": {},
   "outputs": [],
   "source": [
    "class Conference:\n",
    "    def __init__(self):\n",
    "        self.laws = []\n",
    "    \n",
    "    def __add(self, partitiant):\n",
    "        self.laws.append(partitiant)\n",
    "        return True\n",
    "\n",
    "    def __vote(self, partitiant):\n",
    "        if len(self.laws)>0:\n",
    "            if self.laws.pop() == partitiant:\n",
    "                return True\n",
    "        return False\n",
    "\n",
    "    def is_possible(self, actions, partitiants):\n",
    "        self.laws = []\n",
    "\n",
    "        _is_possible = True\n",
    "        for i in range(len(actions)):\n",
    "            if actions[i] == \"A\":\n",
    "                _is_possible = self.__add(partitiants[i])\n",
    "            elif actions[i] == \"V\":\n",
    "                _is_possible = self.__vote(partitiants[i])\n",
    "            if not _is_possible:\n",
    "                break\n",
    "\n",
    "        if _is_possible:\n",
    "            return \"Yes\"\n",
    "        return \"No\""
   ]
  },
  {
   "cell_type": "code",
   "execution_count": 48,
   "id": "b0194ec6",
   "metadata": {},
   "outputs": [
    {
     "name": "stdout",
     "output_type": "stream",
     "text": [
      "Yes\n",
      "No\n"
     ]
    }
   ],
   "source": [
    "conf = Conference()\n",
    "print(conf.is_possible(\"AVAAAVVV\", \"aabybbyb\"))\n",
    "print(conf.is_possible(\"AAVV\", \"abab\"))"
   ]
  },
  {
   "cell_type": "markdown",
   "id": "controversial-location",
   "metadata": {},
   "source": [
    "### Задача 2. Правильный подмногоугольник\n",
    "\n",
    "Задан правильный *N*-угольник. Требуется выбрать наименьшее количество его вершин, которые также образуют правильный многоугольник.\n",
    "\n",
    "#### Входные данные\n",
    "\n",
    "Входные данные содержат одно целое число *N* (3 ≤ *N* ≤ 1012).\n",
    "\n",
    "#### Вывод\n",
    "\n",
    "Выведите одно число — наименьшее количество вершин заданного многоугольника, которые образуют правильный многоугольник."
   ]
  },
  {
   "cell_type": "code",
   "execution_count": 33,
   "id": "coated-highway",
   "metadata": {},
   "outputs": [],
   "source": [
    "def minimal_sub_polygon_peaks_count(count):\n",
    "    for i in range(3, count//2+1):\n",
    "        if count % i == 0:\n",
    "            return i\n",
    "    return count"
   ]
  },
  {
   "cell_type": "code",
   "execution_count": 42,
   "id": "531fcc17",
   "metadata": {},
   "outputs": [
    {
     "name": "stdout",
     "output_type": "stream",
     "text": [
      "4\n"
     ]
    }
   ],
   "source": [
    "print(minimal_sub_polygon_peaks_count(8))"
   ]
  },
  {
   "cell_type": "markdown",
   "id": "cordless-fundamentals",
   "metadata": {},
   "source": [
    "### Задача 3.\n",
    "\n",
    "На форуме, на котором обсуждаются задачи олимпиад по информатике, ввели следующий аналог капчи. Участнику выдаётся строка из *N* десятичных цифр (без ведущих нулей). В качестве ответа требуется ввести такое основание системы счисления *B*, что в этой системе счисления выданная запись будет соответствовать составному числу (назовем его *D*), а также число *X*, большее 1 и меньшее *D*, являющееся делителем *D*.\n",
    "\n",
    "При этом *B* и *X* не должны превосходить 10^9.\n",
    "\n",
    "По заданной строке десятичных цифр найдите любую пару чисел *B* и *X*, удовлетворяющую ограничениям, или ответьте, что решения в заданных ограничениях не существует.\n",
    "\n",
    "#### Входные данные\n",
    "\n",
    "Входные данные состоят из непустой строки длиной до 3 ⋅ 106 символов, составленной из цифр от 0 до 9 и не начинающейся с 0.\n",
    "\n",
    "#### Вывод\n",
    "\n",
    "Если решение существует, выведите два числа – основание системы счисления *B* и делитель *X*, записанные в десятичной системе счисления. Оба числа должны удовлетворять ограничениям 2 ≤ *B*, *X* ≤ 10^9. Если решения не существует, выведите –1."
   ]
  },
  {
   "cell_type": "code",
   "execution_count": 8,
   "id": "cb8c12c6",
   "metadata": {},
   "outputs": [],
   "source": [
    "def get_dividers(number):\n",
    "    result = list()\n",
    "    for sys in range(2, 10**6):\n",
    "        first = convert_to_pseudosystem(number, sys)\n",
    "        for divider in range(2, number):\n",
    "            second = convert_to_pseudosystem(divider, sys)\n",
    "            if first % second == 0:\n",
    "                result.append((sys, divider))\n",
    "\n",
    "    if len(result)>0:\n",
    "        return result\n",
    "    return -1"
   ]
  },
  {
   "cell_type": "code",
   "execution_count": 9,
   "id": "jewish-rocket",
   "metadata": {
    "scrolled": true
   },
   "outputs": [],
   "source": [
    "def convert_to_pseudosystem(input_number, sys):\n",
    "    number = input_number\n",
    "    result = 0\n",
    "\n",
    "    tens = 1\n",
    "    while number > 0:\n",
    "        result += number%sys * tens\n",
    "        tens *= 10\n",
    "        number //= sys  \n",
    "\n",
    "    return result "
   ]
  },
  {
   "cell_type": "code",
   "execution_count": 11,
   "id": "1fb60e7c",
   "metadata": {},
   "outputs": [
    {
     "name": "stdout",
     "output_type": "stream",
     "text": [
      "999997\n"
     ]
    }
   ],
   "source": [
    "print(len(get_dividers(4)))"
   ]
  },
  {
   "cell_type": "code",
   "execution_count": null,
   "id": "3ea24814",
   "metadata": {},
   "outputs": [],
   "source": []
  }
 ],
 "metadata": {
  "kernelspec": {
   "display_name": "Python 3 (ipykernel)",
   "language": "python",
   "name": "python3"
  },
  "language_info": {
   "codemirror_mode": {
    "name": "ipython",
    "version": 3
   },
   "file_extension": ".py",
   "mimetype": "text/x-python",
   "name": "python",
   "nbconvert_exporter": "python",
   "pygments_lexer": "ipython3",
   "version": "3.10.4"
  }
 },
 "nbformat": 4,
 "nbformat_minor": 5
}
