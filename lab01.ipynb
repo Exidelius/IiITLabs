{
 "cells": [
  {
   "cell_type": "code",
   "execution_count": 1,
   "metadata": {},
   "outputs": [],
   "source": [
    "# Лабораторная работа №1\n",
    "# Выполнил студент группы БВТ2003 Степанов Михаил Николаевич"
   ]
  },
  {
   "cell_type": "code",
   "execution_count": 2,
   "metadata": {},
   "outputs": [
    {
     "name": "stdout",
     "output_type": "stream",
     "text": [
      "hello-world!\n"
     ]
    }
   ],
   "source": [
    "# Задание №1\n",
    "# Вывести \"Hello, World!\"\n",
    "\n",
    "print(\"Hello, World!\")"
   ]
  },
  {
   "cell_type": "code",
   "execution_count": 5,
   "metadata": {},
   "outputs": [
    {
     "name": "stdout",
     "output_type": "stream",
     "text": [
      "[[276, -226, 904, 102], [-219, 643, 912, 417], [544, 301, 675, 556]]\n"
     ]
    }
   ],
   "source": [
    "# Задание 2\n",
    "# Написать генератор случайных матриц(многомерных), который принимает опциональные параметры m, n, min_limit, max_limit, где m и n указывают размер матрицы, а min_lim и max_lim - минимальное и максимальное значение для генерируемого числа . По умолчанию при отсутствии параметров принимать следующие значения: m=50, n=50, min_limit=-250, max_limit=1000+(номер своего варианта)\n",
    "\n",
    "from random import randint\n",
    "\n",
    "def randomMatrixGenerator(m=50, n=50, min_limit=-250, max_limit=1000):\n",
    "    return [[randint(min_limit,max_limit) for i in range(m)] for i in range(n)]\n",
    "\n",
    "print(randomMatrixGenerator(4,3))"
   ]
  },
  {
   "cell_type": "code",
   "execution_count": null,
   "metadata": {},
   "outputs": [],
   "source": []
  }
 ],
 "metadata": {
  "interpreter": {
   "hash": "d2e3a79096eb3dad17f830b58ed8fe2ee365aadc67a37a6426743fe0c94bb988"
  },
  "kernelspec": {
   "display_name": "Python 3.10.2 64-bit",
   "language": "python",
   "name": "python3"
  },
  "language_info": {
   "codemirror_mode": {
    "name": "ipython",
    "version": 3
   },
   "file_extension": ".py",
   "mimetype": "text/x-python",
   "name": "python",
   "nbconvert_exporter": "python",
   "pygments_lexer": "ipython3",
   "version": "3.10.2"
  },
  "orig_nbformat": 4
 },
 "nbformat": 4,
 "nbformat_minor": 2
}
