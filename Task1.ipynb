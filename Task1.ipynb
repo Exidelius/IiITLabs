{
 "cells": [
  {
   "cell_type": "code",
   "execution_count": 1,
   "metadata": {},
   "outputs": [],
   "source": [
    "def minimalSubPolygonPeaksCount(count):\n",
    "    for i in range(3, count//2+1):\n",
    "        if count % i == 0:\n",
    "            return i\n",
    "    return count"
   ]
  },
  {
   "cell_type": "code",
   "execution_count": 2,
   "metadata": {},
   "outputs": [],
   "source": [
    "def triangleWithMaxPerimeter(ribs):\n",
    "    perimeter = 0\n",
    "\n",
    "    for i in range(0,len(ribs)):\n",
    "        for j in range(i+1,len(ribs)):\n",
    "            for k in range(j+1,len(ribs)):\n",
    "                if (ribs[i]+ribs[j]>ribs[k] and ribs[i]+ribs[k]>ribs[j] and ribs[k]+ribs[j]>ribs[i]):\n",
    "                    if (perimeter<ribs[i]+ribs[j]+ribs[k]):\n",
    "                        perimeter = ribs[i]+ribs[j]+ribs[k]\n",
    "    return perimeter"
   ]
  },
  {
   "cell_type": "code",
   "execution_count": 15,
   "metadata": {},
   "outputs": [
    {
     "name": "stdout",
     "output_type": "stream",
     "text": [
      "95534330\n",
      "0\n",
      "343234323\n"
     ]
    }
   ],
   "source": [
    "def compareNumbers(a, b):\n",
    "    first_number = str(a)\n",
    "    second_number = str(b)\n",
    "\n",
    "    minLength = len(first_number)\n",
    "    if len(second_number)<minLength: \n",
    "        minLength = len(second_number)\n",
    "\n",
    "    for digit_index in range(minLength):\n",
    "        if (int(first_number[digit_index])<int(second_number[digit_index])):\n",
    "            return True\n",
    "        elif int(first_number[digit_index]) == int(second_number[digit_index]):\n",
    "            if digit_index == minLength-1 :\n",
    "                if len(first_number) < len(second_number):\n",
    "                    return compareNumbers(first_number, second_number[minLength:len(second_number)])\n",
    "                elif len(first_number) > len(second_number):\n",
    "                    return compareNumbers(first_number[minLength:len(first_number)], second_number)\n",
    "        else:\n",
    "            return False\n",
    "\n",
    "def insertionSort(nums):\n",
    "        for i in range(1, len(nums)):\n",
    "            k = i-1\n",
    "            while k >= 0 and compareNumbers(nums[k], nums[k+1]):\n",
    "                nums[k], nums[k+1] = nums[k+1], nums[k]\n",
    "                k-=1\n",
    "\n",
    "def trimZeros(number):\n",
    "    result = \"\"\n",
    "\n",
    "    k = 0\n",
    "    for i in range (len(number)-1):\n",
    "        if (number[i]=='0'):\n",
    "            k+=1\n",
    "        else: \n",
    "            break\n",
    "\n",
    "    result = number[k:len(number)]\n",
    "\n",
    "    return result\n",
    "\n",
    "def biggestNumber(nums):\n",
    "    result = \"\"\n",
    "    \n",
    "    insertionSort(nums)\n",
    "\n",
    "    for i in range(len(nums)):\n",
    "        result += str(nums[i])\n",
    "\n",
    "    result = trimZeros(result)\n",
    "\n",
    "    return result\n",
    "    \n",
    "print(biggestNumber([5, 3, 30, 34, 5, 9]))\n",
    "print(biggestNumber([0,0]))\n",
    "print(biggestNumber([34323, 3432]))"
   ]
  },
  {
   "cell_type": "code",
   "execution_count": null,
   "metadata": {},
   "outputs": [],
   "source": []
  }
 ],
 "metadata": {
  "interpreter": {
   "hash": "d2e3a79096eb3dad17f830b58ed8fe2ee365aadc67a37a6426743fe0c94bb988"
  },
  "kernelspec": {
   "display_name": "Python 3.10.2 64-bit",
   "language": "python",
   "name": "python3"
  },
  "language_info": {
   "codemirror_mode": {
    "name": "ipython",
    "version": 3
   },
   "file_extension": ".py",
   "mimetype": "text/x-python",
   "name": "python",
   "nbconvert_exporter": "python",
   "pygments_lexer": "ipython3",
   "version": "3.10.2"
  },
  "orig_nbformat": 4
 },
 "nbformat": 4,
 "nbformat_minor": 2
}
