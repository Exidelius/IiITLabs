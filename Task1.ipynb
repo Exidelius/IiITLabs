{
 "cells": [
  {
   "cell_type": "code",
   "execution_count": 1,
   "metadata": {},
   "outputs": [],
   "source": [
    "def minimalSubPolygonPeaksCount(count):\n",
    "    for i in range(3, count//2+1):\n",
    "        if count % i == 0:\n",
    "            return i\n",
    "    return count"
   ]
  },
  {
   "cell_type": "code",
   "execution_count": 2,
   "metadata": {},
   "outputs": [],
   "source": [
    "def triangleWithMaxPerimeter(ribs):\n",
    "    perimeter = 0\n",
    "\n",
    "    for i in range(0,len(ribs)):\n",
    "        for j in range(i+1,len(ribs)):\n",
    "            for k in range(j+1,len(ribs)):\n",
    "                if (ribs[i]+ribs[j]>ribs[k] and ribs[i]+ribs[k]>ribs[j] and ribs[k]+ribs[j]>ribs[i]):\n",
    "                    if (perimeter<ribs[i]+ribs[j]+ribs[k]):\n",
    "                        perimeter = ribs[i]+ribs[j]+ribs[k]\n",
    "    return perimeter"
   ]
  },
  {
   "cell_type": "code",
   "execution_count": 3,
   "metadata": {},
   "outputs": [
    {
     "name": "stdout",
     "output_type": "stream",
     "text": [
      "95534330\n"
     ]
    }
   ],
   "source": [
    "def compareNumbers(nums, i, j):\n",
    "    first = str(nums[i])\n",
    "    second = str(nums[j])\n",
    "\n",
    "    maxLength = len(first)\n",
    "    if len(second)<maxLength: \n",
    "        maxLength = len(second)\n",
    "\n",
    "    for k in range(maxLength):\n",
    "        if (int(first[k])>int(second[k])):\n",
    "            nums[i], nums[j] = nums[j], nums[i]\n",
    "            return True\n",
    "        elif int(first[k]) == int(second[k]):\n",
    "            if k == maxLength-1 :\n",
    "                if len(first)<len(second):\n",
    "                    if int(second[k-1]) < int(second[k]):     \n",
    "                        nums[i], nums[j] = nums[j], nums[i]\n",
    "                        return True\n",
    "        else:\n",
    "            return False\n",
    "\n",
    "def insertionSort(nums):\n",
    "        for i in range(1, len(nums)):\n",
    "            k = i-1\n",
    "            while k >= 0 and compareNumbers(nums, k, k+1):\n",
    "                k-=1\n",
    "\n",
    "def biggestNumber(nums):\n",
    "    result = \"\"\n",
    "    \n",
    "    insertionSort(nums)\n",
    "\n",
    "    for i in range(len(nums)-1,-1,-1):\n",
    "        result += str(nums[i])\n",
    "\n",
    "    return result\n",
    "    \n",
    "print(biggestNumber([5, 3, 30, 34, 5, 9]))"
   ]
  }
 ],
 "metadata": {
  "interpreter": {
   "hash": "d2e3a79096eb3dad17f830b58ed8fe2ee365aadc67a37a6426743fe0c94bb988"
  },
  "kernelspec": {
   "display_name": "Python 3.10.2 64-bit",
   "language": "python",
   "name": "python3"
  },
  "language_info": {
   "codemirror_mode": {
    "name": "ipython",
    "version": 3
   },
   "file_extension": ".py",
   "mimetype": "text/x-python",
   "name": "python",
   "nbconvert_exporter": "python",
   "pygments_lexer": "ipython3",
   "version": "3.10.2"
  },
  "orig_nbformat": 4
 },
 "nbformat": 4,
 "nbformat_minor": 2
}
